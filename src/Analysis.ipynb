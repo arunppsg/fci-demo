{
 "cells": [
  {
   "cell_type": "markdown",
   "id": "57615752",
   "metadata": {},
   "source": [
    "# Generation of Datasets"
   ]
  },
  {
   "cell_type": "code",
   "execution_count": 32,
   "id": "7d3d658e",
   "metadata": {},
   "outputs": [],
   "source": [
    "import os\n",
    "\n",
    "import pandas as pd\n",
    "pd.options.mode.chained_assignment = None  # default='warn'\n",
    "\n",
    "import joblib\n",
    "import numpy as np\n",
    "from scipy import stats\n",
    "\n",
    "from sklearn import linear_model\n",
    "from sklearn.metrics import mean_squared_error, r2_score\n",
    "import statsmodels.api as sm\n",
    "import matplotlib.pyplot as plt\n",
    "import pickle"
   ]
  },
  {
   "cell_type": "code",
   "execution_count": 2,
   "id": "a871f559",
   "metadata": {},
   "outputs": [],
   "source": [
    "def remove_outliers(df, cols):\n",
    "    for col in cols:\n",
    "        df = df[np.abs(stats.zscore(df[col]) <= 3)].reset_index(drop=True)\n",
    "    return df\n",
    "\n",
    "def generate_bpl_data(pop, bpl, bpl_cr):\n",
    "    states = bpl['State.UT'].unique()\n",
    "    states\n",
    "    for state in states:\n",
    "        perc = bpl[(bpl['State.UT'] == state) & (bpl['year'] == 2011)]['percent'].values[0]\n",
    "        for year in range(2012, 2020):\n",
    "            perc = perc + bpl_cr\n",
    "            new_entry = pd.DataFrame({'State.UT':[state], 'percent':[perc], 'year':[year]})\n",
    "            bpl = pd.concat([bpl, new_entry], axis=0)\n",
    "\n",
    "    state = \"ANDHRA PR\"\n",
    "\n",
    "    bpl = bpl[~((bpl['year'] > 2013) & (bpl['State.UT'] == state))]\n",
    "\n",
    "    bpl = pd.merge(bpl, pop, on=['State.UT', 'year'])\n",
    "    bpl['bpl_pop'] = bpl['percent'] * bpl['Population'] / 100\n",
    "    bpl = bpl[(bpl['bpl_pop'] > 0)]\n",
    "    bpl['log_bpl_pop'] = np.log1p(bpl['Population'])\n",
    "    return bpl"
   ]
  },
  {
   "cell_type": "markdown",
   "id": "832f8c43",
   "metadata": {},
   "source": [
    "Loading rice and wheat consumption datasets and removal of outliers in them."
   ]
  },
  {
   "cell_type": "code",
   "execution_count": 3,
   "id": "2557c05f",
   "metadata": {},
   "outputs": [
    {
     "name": "stdout",
     "output_type": "stream",
     "text": [
      "(601, 5)\n",
      "(586, 5)\n"
     ]
    }
   ],
   "source": [
    "rice = pd.read_excel(\"data/rice.xlsx\")\n",
    "wheat = pd.read_excel(\"data/wheat.xlsx\")\n",
    "print (rice.shape)\n",
    "\n",
    "rice = remove_outliers(rice, [\"offtake\", \"allotment\"])\n",
    "wheat = remove_outliers(wheat, [\"offtake\", \"allotment\"])\n",
    "print (rice.shape)"
   ]
  },
  {
   "cell_type": "markdown",
   "id": "95d6d599",
   "metadata": {},
   "source": [
    "Finding rice consuming and wheat consuming states"
   ]
  },
  {
   "cell_type": "code",
   "execution_count": 4,
   "id": "34422d8a",
   "metadata": {},
   "outputs": [
    {
     "data": {
      "text/html": [
       "<div>\n",
       "<style scoped>\n",
       "    .dataframe tbody tr th:only-of-type {\n",
       "        vertical-align: middle;\n",
       "    }\n",
       "\n",
       "    .dataframe tbody tr th {\n",
       "        vertical-align: top;\n",
       "    }\n",
       "\n",
       "    .dataframe thead th {\n",
       "        text-align: right;\n",
       "    }\n",
       "</style>\n",
       "<table border=\"1\" class=\"dataframe\">\n",
       "  <thead>\n",
       "    <tr style=\"text-align: right;\">\n",
       "      <th></th>\n",
       "      <th>State.UT</th>\n",
       "      <th>rice_allotment</th>\n",
       "      <th>wheat_allotment</th>\n",
       "      <th>perc_rice</th>\n",
       "      <th>perc_wheat</th>\n",
       "    </tr>\n",
       "  </thead>\n",
       "  <tbody>\n",
       "    <tr>\n",
       "      <th>0</th>\n",
       "      <td>A&amp;N ISLANDS</td>\n",
       "      <td>485.20</td>\n",
       "      <td>232.12</td>\n",
       "      <td>0.676407</td>\n",
       "      <td>0.323593</td>\n",
       "    </tr>\n",
       "    <tr>\n",
       "      <th>1</th>\n",
       "      <td>ANDHRA PR</td>\n",
       "      <td>49027.06</td>\n",
       "      <td>3712.78</td>\n",
       "      <td>0.929602</td>\n",
       "      <td>0.070398</td>\n",
       "    </tr>\n",
       "    <tr>\n",
       "      <th>2</th>\n",
       "      <td>ARUNACHAL</td>\n",
       "      <td>1843.87</td>\n",
       "      <td>210.01</td>\n",
       "      <td>0.897750</td>\n",
       "      <td>0.102250</td>\n",
       "    </tr>\n",
       "    <tr>\n",
       "      <th>3</th>\n",
       "      <td>ASSAM</td>\n",
       "      <td>29957.20</td>\n",
       "      <td>6564.82</td>\n",
       "      <td>0.820250</td>\n",
       "      <td>0.179750</td>\n",
       "    </tr>\n",
       "    <tr>\n",
       "      <th>4</th>\n",
       "      <td>BIHAR</td>\n",
       "      <td>52286.72</td>\n",
       "      <td>36073.22</td>\n",
       "      <td>0.591747</td>\n",
       "      <td>0.408253</td>\n",
       "    </tr>\n",
       "  </tbody>\n",
       "</table>\n",
       "</div>"
      ],
      "text/plain": [
       "      State.UT  rice_allotment  wheat_allotment  perc_rice  perc_wheat\n",
       "0  A&N ISLANDS          485.20           232.12   0.676407    0.323593\n",
       "1    ANDHRA PR        49027.06          3712.78   0.929602    0.070398\n",
       "2    ARUNACHAL         1843.87           210.01   0.897750    0.102250\n",
       "3        ASSAM        29957.20          6564.82   0.820250    0.179750\n",
       "4        BIHAR        52286.72         36073.22   0.591747    0.408253"
      ]
     },
     "execution_count": 4,
     "metadata": {},
     "output_type": "execute_result"
    }
   ],
   "source": [
    "rice_summary = rice.groupby(\"State.UT\").agg({\"allotment\":sum}).reset_index().\\\n",
    "                rename({\"allotment\":\"rice_allotment\"}, axis=1)\n",
    "wheat_summary = wheat.groupby(\"State.UT\").agg({\"allotment\":sum}).reset_index().\\\n",
    "                rename({\"allotment\":\"wheat_allotment\"}, axis=1)\n",
    "\n",
    "rice_wheat = pd.merge(rice_summary, wheat_summary, on='State.UT', how='inner')\n",
    "rice_wheat['perc_rice'] = rice_wheat['rice_allotment'] / (rice_wheat['rice_allotment'] + rice_wheat['wheat_allotment'])\n",
    "rice_wheat['perc_wheat'] = rice_wheat['wheat_allotment'] / (rice_wheat['rice_allotment'] + rice_wheat['wheat_allotment'])\n",
    "\n",
    "rice_wheat.head()"
   ]
  },
  {
   "cell_type": "markdown",
   "id": "b5da3921",
   "metadata": {},
   "source": [
    "Making total allotment and offtake from rice and wheat allotment-offtake state-year wise data"
   ]
  },
  {
   "cell_type": "code",
   "execution_count": 5,
   "id": "f82099bf",
   "metadata": {},
   "outputs": [
    {
     "data": {
      "text/html": [
       "<div>\n",
       "<style scoped>\n",
       "    .dataframe tbody tr th:only-of-type {\n",
       "        vertical-align: middle;\n",
       "    }\n",
       "\n",
       "    .dataframe tbody tr th {\n",
       "        vertical-align: top;\n",
       "    }\n",
       "\n",
       "    .dataframe thead th {\n",
       "        text-align: right;\n",
       "    }\n",
       "</style>\n",
       "<table border=\"1\" class=\"dataframe\">\n",
       "  <thead>\n",
       "    <tr style=\"text-align: right;\">\n",
       "      <th></th>\n",
       "      <th>State.UT</th>\n",
       "      <th>year</th>\n",
       "      <th>offtake</th>\n",
       "      <th>allotment</th>\n",
       "      <th>utilisation_ratio</th>\n",
       "    </tr>\n",
       "  </thead>\n",
       "  <tbody>\n",
       "    <tr>\n",
       "      <th>0</th>\n",
       "      <td>A&amp;N ISLANDS</td>\n",
       "      <td>2003</td>\n",
       "      <td>22.39</td>\n",
       "      <td>48.77</td>\n",
       "      <td>0.459094</td>\n",
       "    </tr>\n",
       "    <tr>\n",
       "      <th>1</th>\n",
       "      <td>ARUNACHAL</td>\n",
       "      <td>2003</td>\n",
       "      <td>104.96</td>\n",
       "      <td>145.33</td>\n",
       "      <td>0.722218</td>\n",
       "    </tr>\n",
       "    <tr>\n",
       "      <th>2</th>\n",
       "      <td>ASSAM</td>\n",
       "      <td>2003</td>\n",
       "      <td>1510.92</td>\n",
       "      <td>2042.99</td>\n",
       "      <td>0.739563</td>\n",
       "    </tr>\n",
       "    <tr>\n",
       "      <th>3</th>\n",
       "      <td>BIHAR</td>\n",
       "      <td>2003</td>\n",
       "      <td>1424.66</td>\n",
       "      <td>5699.26</td>\n",
       "      <td>0.249973</td>\n",
       "    </tr>\n",
       "    <tr>\n",
       "      <th>4</th>\n",
       "      <td>CHANDIGARH</td>\n",
       "      <td>2003</td>\n",
       "      <td>1.72</td>\n",
       "      <td>87.82</td>\n",
       "      <td>0.019586</td>\n",
       "    </tr>\n",
       "  </tbody>\n",
       "</table>\n",
       "</div>"
      ],
      "text/plain": [
       "      State.UT  year  offtake  allotment  utilisation_ratio\n",
       "0  A&N ISLANDS  2003    22.39      48.77           0.459094\n",
       "1    ARUNACHAL  2003   104.96     145.33           0.722218\n",
       "2        ASSAM  2003  1510.92    2042.99           0.739563\n",
       "3        BIHAR  2003  1424.66    5699.26           0.249973\n",
       "4   CHANDIGARH  2003     1.72      87.82           0.019586"
      ]
     },
     "execution_count": 5,
     "metadata": {},
     "output_type": "execute_result"
    }
   ],
   "source": [
    "all_off = pd.merge(rice, wheat, on=['State.UT', 'year'], how='inner')\n",
    "all_off['offtake'] = all_off[\"offtake_x\"] + all_off[\"offtake_y\"]\n",
    "all_off['allotment'] = all_off['allotment_x'] + all_off['allotment_y']\n",
    "all_off.drop(['offtake_x', 'offtake_y', 'allotment_x', 'allotment_y', 'zone_x', 'zone_y'], axis=1, inplace=True)\n",
    "all_off['utilisation_ratio'] = all_off['offtake'] / all_off['allotment']\n",
    "all_off = remove_outliers(all_off, ['offtake', 'allotment', 'utilisation_ratio'])\n",
    "all_off.head()"
   ]
  },
  {
   "cell_type": "markdown",
   "id": "06fce895",
   "metadata": {},
   "source": [
    "### Year over year and state total_ao analysis"
   ]
  },
  {
   "cell_type": "code",
   "execution_count": 6,
   "id": "1cdbb623",
   "metadata": {},
   "outputs": [
    {
     "data": {
      "text/html": [
       "<div>\n",
       "<style scoped>\n",
       "    .dataframe tbody tr th:only-of-type {\n",
       "        vertical-align: middle;\n",
       "    }\n",
       "\n",
       "    .dataframe tbody tr th {\n",
       "        vertical-align: top;\n",
       "    }\n",
       "\n",
       "    .dataframe thead th {\n",
       "        text-align: right;\n",
       "    }\n",
       "</style>\n",
       "<table border=\"1\" class=\"dataframe\">\n",
       "  <thead>\n",
       "    <tr style=\"text-align: right;\">\n",
       "      <th></th>\n",
       "      <th>year</th>\n",
       "      <th>allotment</th>\n",
       "      <th>offtake</th>\n",
       "    </tr>\n",
       "  </thead>\n",
       "  <tbody>\n",
       "    <tr>\n",
       "      <th>0</th>\n",
       "      <td>2003</td>\n",
       "      <td>33339.66</td>\n",
       "      <td>17375.66</td>\n",
       "    </tr>\n",
       "    <tr>\n",
       "      <th>1</th>\n",
       "      <td>2004</td>\n",
       "      <td>34330.76</td>\n",
       "      <td>18574.06</td>\n",
       "    </tr>\n",
       "    <tr>\n",
       "      <th>2</th>\n",
       "      <td>2005</td>\n",
       "      <td>48210.39</td>\n",
       "      <td>25269.57</td>\n",
       "    </tr>\n",
       "    <tr>\n",
       "      <th>3</th>\n",
       "      <td>2006</td>\n",
       "      <td>48333.61</td>\n",
       "      <td>27877.11</td>\n",
       "    </tr>\n",
       "    <tr>\n",
       "      <th>4</th>\n",
       "      <td>2007</td>\n",
       "      <td>38947.82</td>\n",
       "      <td>33513.04</td>\n",
       "    </tr>\n",
       "  </tbody>\n",
       "</table>\n",
       "</div>"
      ],
      "text/plain": [
       "   year  allotment   offtake\n",
       "0  2003   33339.66  17375.66\n",
       "1  2004   34330.76  18574.06\n",
       "2  2005   48210.39  25269.57\n",
       "3  2006   48333.61  27877.11\n",
       "4  2007   38947.82  33513.04"
      ]
     },
     "execution_count": 6,
     "metadata": {},
     "output_type": "execute_result"
    }
   ],
   "source": [
    "year_total_ao = all_off.groupby('year').agg({'allotment':sum, 'offtake':sum}).reset_index()\n",
    "year_total_ao.head()"
   ]
  },
  {
   "cell_type": "code",
   "execution_count": 7,
   "id": "c61991ec",
   "metadata": {},
   "outputs": [],
   "source": [
    "year_total_ao.to_excel('data/year_total_ao.xlsx')"
   ]
  },
  {
   "cell_type": "code",
   "execution_count": 8,
   "id": "91c6839a",
   "metadata": {},
   "outputs": [],
   "source": [
    "import plotly.graph_objects as go"
   ]
  },
  {
   "cell_type": "code",
   "execution_count": 9,
   "id": "3bf81fec",
   "metadata": {},
   "outputs": [],
   "source": [
    "dif = go.Figure()"
   ]
  },
  {
   "cell_type": "code",
   "execution_count": 10,
   "id": "96fb60a2",
   "metadata": {},
   "outputs": [
    {
     "data": {
      "text/html": [
       "<div>\n",
       "<style scoped>\n",
       "    .dataframe tbody tr th:only-of-type {\n",
       "        vertical-align: middle;\n",
       "    }\n",
       "\n",
       "    .dataframe tbody tr th {\n",
       "        vertical-align: top;\n",
       "    }\n",
       "\n",
       "    .dataframe thead th {\n",
       "        text-align: right;\n",
       "    }\n",
       "</style>\n",
       "<table border=\"1\" class=\"dataframe\">\n",
       "  <thead>\n",
       "    <tr style=\"text-align: right;\">\n",
       "      <th></th>\n",
       "      <th>State.UT</th>\n",
       "      <th>allotment</th>\n",
       "      <th>offtake</th>\n",
       "    </tr>\n",
       "  </thead>\n",
       "  <tbody>\n",
       "    <tr>\n",
       "      <th>0</th>\n",
       "      <td>A&amp;N ISLANDS</td>\n",
       "      <td>717.32</td>\n",
       "      <td>300.19</td>\n",
       "    </tr>\n",
       "    <tr>\n",
       "      <th>1</th>\n",
       "      <td>ANDHRA PR</td>\n",
       "      <td>51873.18</td>\n",
       "      <td>45778.81</td>\n",
       "    </tr>\n",
       "    <tr>\n",
       "      <th>2</th>\n",
       "      <td>ARUNACHAL</td>\n",
       "      <td>2053.88</td>\n",
       "      <td>1652.67</td>\n",
       "    </tr>\n",
       "    <tr>\n",
       "      <th>3</th>\n",
       "      <td>ASSAM</td>\n",
       "      <td>36522.02</td>\n",
       "      <td>31546.01</td>\n",
       "    </tr>\n",
       "    <tr>\n",
       "      <th>4</th>\n",
       "      <td>BIHAR</td>\n",
       "      <td>58594.23</td>\n",
       "      <td>35139.06</td>\n",
       "    </tr>\n",
       "  </tbody>\n",
       "</table>\n",
       "</div>"
      ],
      "text/plain": [
       "      State.UT  allotment   offtake\n",
       "0  A&N ISLANDS     717.32    300.19\n",
       "1    ANDHRA PR   51873.18  45778.81\n",
       "2    ARUNACHAL    2053.88   1652.67\n",
       "3        ASSAM   36522.02  31546.01\n",
       "4        BIHAR   58594.23  35139.06"
      ]
     },
     "execution_count": 10,
     "metadata": {},
     "output_type": "execute_result"
    }
   ],
   "source": [
    "state_total_ao = all_off.groupby('State.UT').agg({'allotment':sum, 'offtake':sum}).reset_index()\n",
    "state_total_ao.head()"
   ]
  },
  {
   "cell_type": "code",
   "execution_count": 11,
   "id": "ccd8d9b3",
   "metadata": {},
   "outputs": [],
   "source": [
    "state_total_ao.to_excel('data/state_total_ao.xlsx')"
   ]
  },
  {
   "cell_type": "markdown",
   "id": "72b4715d",
   "metadata": {},
   "source": [
    "**The analysis in the below cell are not used anywhere in the paper**"
   ]
  },
  {
   "cell_type": "code",
   "execution_count": 12,
   "id": "8cf9152c",
   "metadata": {},
   "outputs": [
    {
     "data": {
      "text/html": [
       "<div>\n",
       "<style scoped>\n",
       "    .dataframe tbody tr th:only-of-type {\n",
       "        vertical-align: middle;\n",
       "    }\n",
       "\n",
       "    .dataframe tbody tr th {\n",
       "        vertical-align: top;\n",
       "    }\n",
       "\n",
       "    .dataframe thead th {\n",
       "        text-align: right;\n",
       "    }\n",
       "</style>\n",
       "<table border=\"1\" class=\"dataframe\">\n",
       "  <thead>\n",
       "    <tr style=\"text-align: right;\">\n",
       "      <th></th>\n",
       "      <th>State.UT</th>\n",
       "      <th>year</th>\n",
       "      <th>gsdp</th>\n",
       "      <th>log_gsdp</th>\n",
       "    </tr>\n",
       "  </thead>\n",
       "  <tbody>\n",
       "    <tr>\n",
       "      <th>0</th>\n",
       "      <td>A&amp;N ISLANDS</td>\n",
       "      <td>2011</td>\n",
       "      <td>3978.431748</td>\n",
       "      <td>8.288894</td>\n",
       "    </tr>\n",
       "    <tr>\n",
       "      <th>1</th>\n",
       "      <td>ANDHRA PR</td>\n",
       "      <td>2011</td>\n",
       "      <td>379402.030000</td>\n",
       "      <td>12.846354</td>\n",
       "    </tr>\n",
       "    <tr>\n",
       "      <th>2</th>\n",
       "      <td>ARUNACHAL</td>\n",
       "      <td>2011</td>\n",
       "      <td>11062.690000</td>\n",
       "      <td>9.311424</td>\n",
       "    </tr>\n",
       "    <tr>\n",
       "      <th>3</th>\n",
       "      <td>ASSAM</td>\n",
       "      <td>2011</td>\n",
       "      <td>143174.910000</td>\n",
       "      <td>11.871829</td>\n",
       "    </tr>\n",
       "    <tr>\n",
       "      <th>4</th>\n",
       "      <td>BIHAR</td>\n",
       "      <td>2011</td>\n",
       "      <td>247143.960643</td>\n",
       "      <td>12.417730</td>\n",
       "    </tr>\n",
       "  </tbody>\n",
       "</table>\n",
       "</div>"
      ],
      "text/plain": [
       "      State.UT  year           gsdp   log_gsdp\n",
       "0  A&N ISLANDS  2011    3978.431748   8.288894\n",
       "1    ANDHRA PR  2011  379402.030000  12.846354\n",
       "2    ARUNACHAL  2011   11062.690000   9.311424\n",
       "3        ASSAM  2011  143174.910000  11.871829\n",
       "4        BIHAR  2011  247143.960643  12.417730"
      ]
     },
     "execution_count": 12,
     "metadata": {},
     "output_type": "execute_result"
    }
   ],
   "source": [
    "ur = pd.read_excel(\"data/utilisation_ratio_state_wise_2010_2019.xlsx\")\n",
    "state_ao = pd.read_excel(\"data/state_ao 2003-19.xlsx\")\n",
    "\n",
    "#Getting road length data\n",
    "road_l = pd.read_excel(\"data/Road Length 2010-16.XLSX\")\n",
    "road_l = pd.melt(road_l, var_name='year', value_name='ro_length', id_vars='State.UT')\n",
    "road_l = road_l.dropna()\n",
    "road_l['year'] = road_l['year'].astype(int)\n",
    "road_l['ro_log_length'] = np.log1p(road_l['ro_length'])\n",
    "road_l = remove_outliers(road_l, [\"ro_length\", \"ro_log_length\"])\n",
    "road_l.head()\n",
    "\n",
    "#Getting state highway length\n",
    "sh_l = pd.read_excel(\"data/SH Length 2011-16.xlsx\")\n",
    "sh_l = pd.melt(sh_l, var_name='year', value_name='sh_length', id_vars='State.UT')\n",
    "sh_l = sh_l.dropna()\n",
    "sh_l['sh_log_length'] = np.log1p(sh_l['sh_length'])\n",
    "sh_l['year'] = sh_l['year'].astype(float)\n",
    "sh_l = remove_outliers(sh_l, [\"sh_log_length\", \"sh_length\"])\n",
    "\n",
    "#Getting railway length data\n",
    "rw_l = pd.read_excel(\"data/Railway Length 2011-17.xlsx\")\n",
    "rw_l = pd.melt(rw_l, var_name='year', value_name='rw_length', id_vars='State.UT')\n",
    "rw_l = rw_l.dropna()\n",
    "rw_l['rw_log_length'] = np.log1p(rw_l['rw_length'])\n",
    "rw_l['year'] = rw_l['year'].astype(float)\n",
    "rw_l = remove_outliers(rw_l, [\"rw_length\", \"rw_log_length\"])\n",
    "\n",
    "#Getting GSDP data\n",
    "gsdp = pd.read_excel(\"data/GSDP Current Price 2011-20.xlsx\")\n",
    "gsdp = pd.melt(gsdp, var_name='year', value_name='gsdp', id_vars='State.UT')\n",
    "gsdp['year'] = gsdp['year'].apply(lambda x: int(x[0:4]))\n",
    "gsdp = gsdp.dropna()\n",
    "gsdp['log_gsdp'] = np.log1p(gsdp['gsdp'])\n",
    "gsdp.head()"
   ]
  },
  {
   "cell_type": "markdown",
   "id": "372df21c",
   "metadata": {},
   "source": [
    "DCP Data Prepearation"
   ]
  },
  {
   "cell_type": "code",
   "execution_count": 13,
   "id": "a435689d",
   "metadata": {},
   "outputs": [],
   "source": [
    "rice['grain'] = 'rice'\n",
    "wheat['grain'] = 'white'\n",
    "df_dcp = pd.concat([rice, wheat], axis=0).reset_index()\n",
    "rice.drop(['grain'], axis=1, inplace=True)\n",
    "wheat.drop(['grain'], axis=1, inplace=True)\n",
    "df_dcp['dcp'] = 0\n",
    "\n",
    "dcp_status = pd.read_excel(\"data/DCP Status.xlsx\")\n",
    "dcp_status = dcp_status.dropna().reset_index(drop=True)\n",
    "\n",
    "#wef - with effect from\n",
    "indexes = []\n",
    "for idx, row in dcp_status.iterrows():\n",
    "    year = row['wef']\n",
    "    state = row['State.UT']\n",
    "    grain = row['grain']\n",
    "    idx = df_dcp[(df_dcp['year'] >= year) & (df_dcp['State.UT'] == state) & (df_dcp['grain'] == grain)].index\n",
    "    df_dcp['dcp'][idx] = 1    \n",
    "\n",
    "df_dcp.sample(5)\n",
    "\n",
    "df_dcp['utilisation_ratio'] = df_dcp['offtake'] / df_dcp['allotment']\n",
    "df_dcp.dropna(inplace=True)\n",
    "df_dcp = df_dcp[df_dcp['utilisation_ratio'] <= 1]\n",
    "df_dcp = remove_outliers(df_dcp, [\"utilisation_ratio\"])"
   ]
  },
  {
   "cell_type": "code",
   "execution_count": 14,
   "id": "0c9729cf",
   "metadata": {},
   "outputs": [],
   "source": [
    "pop = pd.read_excel(\"data/projected_population_by_state_2012_2036.xlsx\")\n",
    "pop['log_pop'] = np.log1p(pop['Population'])\n",
    "\n",
    "bpl_perc2011 = pd.read_excel(\"data/BPL data.xlsx\")\n",
    "bpl_perc2011.rename({\"2011-12 Perc of Persons\":\"percent\"}, axis=1, inplace=True)\n",
    "bpl_perc2011['year'] = 2011"
   ]
  },
  {
   "cell_type": "code",
   "execution_count": 16,
   "id": "b8697a5d",
   "metadata": {},
   "outputs": [
    {
     "data": {
      "text/html": [
       "<div>\n",
       "<style scoped>\n",
       "    .dataframe tbody tr th:only-of-type {\n",
       "        vertical-align: middle;\n",
       "    }\n",
       "\n",
       "    .dataframe tbody tr th {\n",
       "        vertical-align: top;\n",
       "    }\n",
       "\n",
       "    .dataframe thead th {\n",
       "        text-align: right;\n",
       "    }\n",
       "</style>\n",
       "<table border=\"1\" class=\"dataframe\">\n",
       "  <thead>\n",
       "    <tr style=\"text-align: right;\">\n",
       "      <th></th>\n",
       "      <th>State.UT</th>\n",
       "      <th>year</th>\n",
       "      <th>offtake</th>\n",
       "      <th>allotment</th>\n",
       "      <th>utilisation_ratio</th>\n",
       "      <th>Population</th>\n",
       "      <th>log_pop</th>\n",
       "    </tr>\n",
       "  </thead>\n",
       "  <tbody>\n",
       "    <tr>\n",
       "      <th>0</th>\n",
       "      <td>A&amp;N ISLANDS</td>\n",
       "      <td>2011</td>\n",
       "      <td>20.41</td>\n",
       "      <td>40.60</td>\n",
       "      <td>0.502709</td>\n",
       "      <td>381000</td>\n",
       "      <td>12.850557</td>\n",
       "    </tr>\n",
       "    <tr>\n",
       "      <th>1</th>\n",
       "      <td>ARUNACHAL</td>\n",
       "      <td>2011</td>\n",
       "      <td>102.69</td>\n",
       "      <td>134.52</td>\n",
       "      <td>0.763381</td>\n",
       "      <td>1384000</td>\n",
       "      <td>14.140489</td>\n",
       "    </tr>\n",
       "    <tr>\n",
       "      <th>2</th>\n",
       "      <td>ASSAM</td>\n",
       "      <td>2011</td>\n",
       "      <td>2211.13</td>\n",
       "      <td>2914.49</td>\n",
       "      <td>0.758668</td>\n",
       "      <td>31206000</td>\n",
       "      <td>17.256121</td>\n",
       "    </tr>\n",
       "    <tr>\n",
       "      <th>3</th>\n",
       "      <td>BIHAR</td>\n",
       "      <td>2011</td>\n",
       "      <td>3802.68</td>\n",
       "      <td>5410.26</td>\n",
       "      <td>0.702865</td>\n",
       "      <td>104099000</td>\n",
       "      <td>18.460853</td>\n",
       "    </tr>\n",
       "    <tr>\n",
       "      <th>4</th>\n",
       "      <td>CHANDIGARH</td>\n",
       "      <td>2011</td>\n",
       "      <td>54.84</td>\n",
       "      <td>76.20</td>\n",
       "      <td>0.719685</td>\n",
       "      <td>1055000</td>\n",
       "      <td>13.869052</td>\n",
       "    </tr>\n",
       "  </tbody>\n",
       "</table>\n",
       "</div>"
      ],
      "text/plain": [
       "      State.UT  year  offtake  allotment  utilisation_ratio  Population  \\\n",
       "0  A&N ISLANDS  2011    20.41      40.60           0.502709      381000   \n",
       "1    ARUNACHAL  2011   102.69     134.52           0.763381     1384000   \n",
       "2        ASSAM  2011  2211.13    2914.49           0.758668    31206000   \n",
       "3        BIHAR  2011  3802.68    5410.26           0.702865   104099000   \n",
       "4   CHANDIGARH  2011    54.84      76.20           0.719685     1055000   \n",
       "\n",
       "     log_pop  \n",
       "0  12.850557  \n",
       "1  14.140489  \n",
       "2  17.256121  \n",
       "3  18.460853  \n",
       "4  13.869052  "
      ]
     },
     "execution_count": 16,
     "metadata": {},
     "output_type": "execute_result"
    }
   ],
   "source": [
    "total_all_pop = pd.merge(all_off, pop, on=['State.UT', 'year'], how='inner')\n",
    "\n",
    "total_all_pop.head()"
   ]
  },
  {
   "cell_type": "markdown",
   "id": "1e31ae50",
   "metadata": {},
   "source": [
    "### Equation A"
   ]
  },
  {
   "cell_type": "code",
   "execution_count": 17,
   "id": "93869dcb",
   "metadata": {},
   "outputs": [
    {
     "name": "stdout",
     "output_type": "stream",
     "text": [
      "[4.82335241e-05] 88.87382471679757\n"
     ]
    }
   ],
   "source": [
    "pop_alt_model = linear_model.LinearRegression().fit(total_all_pop[['Population']], total_all_pop['allotment'])\n",
    "\n",
    "print (pop_alt_model.coef_, pop_alt_model.intercept_)"
   ]
  },
  {
   "cell_type": "code",
   "execution_count": 18,
   "id": "cbdac3dd",
   "metadata": {},
   "outputs": [
    {
     "name": "stderr",
     "output_type": "stream",
     "text": [
      "/Users/arun/miniconda3/lib/python3.8/site-packages/statsmodels/tsa/tsatools.py:142: FutureWarning:\n",
      "\n",
      "In a future version of pandas all arguments of concat except for the argument 'objs' will be keyword-only\n",
      "\n"
     ]
    },
    {
     "data": {
      "text/html": [
       "<table class=\"simpletable\">\n",
       "<caption>OLS Regression Results</caption>\n",
       "<tr>\n",
       "  <th>Dep. Variable:</th>        <td>allotment</td>    <th>  R-squared:         </th> <td>   0.949</td> \n",
       "</tr>\n",
       "<tr>\n",
       "  <th>Model:</th>                   <td>OLS</td>       <th>  Adj. R-squared:    </th> <td>   0.948</td> \n",
       "</tr>\n",
       "<tr>\n",
       "  <th>Method:</th>             <td>Least Squares</td>  <th>  F-statistic:       </th> <td>   5435.</td> \n",
       "</tr>\n",
       "<tr>\n",
       "  <th>Date:</th>             <td>Mon, 21 Mar 2022</td> <th>  Prob (F-statistic):</th> <td>4.47e-192</td>\n",
       "</tr>\n",
       "<tr>\n",
       "  <th>Time:</th>                 <td>18:23:21</td>     <th>  Log-Likelihood:    </th> <td> -2178.4</td> \n",
       "</tr>\n",
       "<tr>\n",
       "  <th>No. Observations:</th>      <td>   297</td>      <th>  AIC:               </th> <td>   4361.</td> \n",
       "</tr>\n",
       "<tr>\n",
       "  <th>Df Residuals:</th>          <td>   295</td>      <th>  BIC:               </th> <td>   4368.</td> \n",
       "</tr>\n",
       "<tr>\n",
       "  <th>Df Model:</th>              <td>     1</td>      <th>                     </th>     <td> </td>    \n",
       "</tr>\n",
       "<tr>\n",
       "  <th>Covariance Type:</th>      <td>nonrobust</td>    <th>                     </th>     <td> </td>    \n",
       "</tr>\n",
       "</table>\n",
       "<table class=\"simpletable\">\n",
       "<tr>\n",
       "       <td></td>         <th>coef</th>     <th>std err</th>      <th>t</th>      <th>P>|t|</th>  <th>[0.025</th>    <th>0.975]</th>  \n",
       "</tr>\n",
       "<tr>\n",
       "  <th>const</th>      <td>   88.8738</td> <td>   28.649</td> <td>    3.102</td> <td> 0.002</td> <td>   32.492</td> <td>  145.256</td>\n",
       "</tr>\n",
       "<tr>\n",
       "  <th>Population</th> <td> 4.823e-05</td> <td> 6.54e-07</td> <td>   73.722</td> <td> 0.000</td> <td> 4.69e-05</td> <td> 4.95e-05</td>\n",
       "</tr>\n",
       "</table>\n",
       "<table class=\"simpletable\">\n",
       "<tr>\n",
       "  <th>Omnibus:</th>       <td>22.514</td> <th>  Durbin-Watson:     </th> <td>   1.523</td>\n",
       "</tr>\n",
       "<tr>\n",
       "  <th>Prob(Omnibus):</th> <td> 0.000</td> <th>  Jarque-Bera (JB):  </th> <td>  31.518</td>\n",
       "</tr>\n",
       "<tr>\n",
       "  <th>Skew:</th>          <td> 0.537</td> <th>  Prob(JB):          </th> <td>1.43e-07</td>\n",
       "</tr>\n",
       "<tr>\n",
       "  <th>Kurtosis:</th>      <td> 4.181</td> <th>  Cond. No.          </th> <td>5.81e+07</td>\n",
       "</tr>\n",
       "</table><br/><br/>Notes:<br/>[1] Standard Errors assume that the covariance matrix of the errors is correctly specified.<br/>[2] The condition number is large, 5.81e+07. This might indicate that there are<br/>strong multicollinearity or other numerical problems."
      ],
      "text/plain": [
       "<class 'statsmodels.iolib.summary.Summary'>\n",
       "\"\"\"\n",
       "                            OLS Regression Results                            \n",
       "==============================================================================\n",
       "Dep. Variable:              allotment   R-squared:                       0.949\n",
       "Model:                            OLS   Adj. R-squared:                  0.948\n",
       "Method:                 Least Squares   F-statistic:                     5435.\n",
       "Date:                Mon, 21 Mar 2022   Prob (F-statistic):          4.47e-192\n",
       "Time:                        18:23:21   Log-Likelihood:                -2178.4\n",
       "No. Observations:                 297   AIC:                             4361.\n",
       "Df Residuals:                     295   BIC:                             4368.\n",
       "Df Model:                           1                                         \n",
       "Covariance Type:            nonrobust                                         \n",
       "==============================================================================\n",
       "                 coef    std err          t      P>|t|      [0.025      0.975]\n",
       "------------------------------------------------------------------------------\n",
       "const         88.8738     28.649      3.102      0.002      32.492     145.256\n",
       "Population  4.823e-05   6.54e-07     73.722      0.000    4.69e-05    4.95e-05\n",
       "==============================================================================\n",
       "Omnibus:                       22.514   Durbin-Watson:                   1.523\n",
       "Prob(Omnibus):                  0.000   Jarque-Bera (JB):               31.518\n",
       "Skew:                           0.537   Prob(JB):                     1.43e-07\n",
       "Kurtosis:                       4.181   Cond. No.                     5.81e+07\n",
       "==============================================================================\n",
       "\n",
       "Notes:\n",
       "[1] Standard Errors assume that the covariance matrix of the errors is correctly specified.\n",
       "[2] The condition number is large, 5.81e+07. This might indicate that there are\n",
       "strong multicollinearity or other numerical problems.\n",
       "\"\"\""
      ]
     },
     "execution_count": 18,
     "metadata": {},
     "output_type": "execute_result"
    }
   ],
   "source": [
    "est = sm.OLS(total_all_pop[['allotment']], sm.add_constant(total_all_pop[['Population']]))\n",
    "\n",
    "a = est.fit().summary()\n",
    "#print (a.as_latex())\n",
    "a"
   ]
  },
  {
   "cell_type": "code",
   "execution_count": 16,
   "id": "c458adc7",
   "metadata": {},
   "outputs": [],
   "source": [
    "# pickle.dump(pop_alt_model, open('../model_hub/pop_alt_model.pkl', 'wb'))"
   ]
  },
  {
   "cell_type": "markdown",
   "id": "c55ed858",
   "metadata": {},
   "source": [
    "### Equation B"
   ]
  },
  {
   "cell_type": "code",
   "execution_count": 19,
   "id": "30f1af59",
   "metadata": {},
   "outputs": [
    {
     "name": "stdout",
     "output_type": "stream",
     "text": [
      "Leasr BPL Change Rate  0.81\n"
     ]
    },
    {
     "data": {
      "text/plain": [
       "[<matplotlib.lines.Line2D at 0x7f93b0e1af40>]"
      ]
     },
     "execution_count": 19,
     "metadata": {},
     "output_type": "execute_result"
    },
    {
     "data": {
      "image/png": "[encoded data removed]",
      "text/plain": [
       "<Figure size 432x288 with 1 Axes>"
      ]
     },
     "metadata": {
      "needs_background": "light"
     },
     "output_type": "display_data"
    }
   ],
   "source": [
    "bpl_change_rate = []\n",
    "ssr = []\n",
    "for bpl_cr in np.arange(-1, 3.01, 0.01):\n",
    "    bpl_cr = round(bpl_cr, 2)\n",
    "    bpl = generate_bpl_data(pop, bpl_perc2011, bpl_cr)\n",
    "    tbp = pd.merge(all_off, bpl, on=['State.UT', 'year'], how='inner')\n",
    "    model = linear_model.LinearRegression().fit(tbp[['bpl_pop']], tbp['allotment'])\n",
    "    pred = model.predict(tbp[['bpl_pop']])\n",
    "    ssr.append(mean_squared_error(pred, tbp['allotment']))\n",
    "    bpl_change_rate.append(bpl_cr)\n",
    "\n",
    "bpl_cr = bpl_change_rate[ssr.index(min(ssr))]\n",
    "print (\"Leasr BPL Change Rate \", bpl_cr)\n",
    "\n",
    "plt.plot(bpl_change_rate, ssr)"
   ]
  },
  {
   "cell_type": "code",
   "execution_count": 21,
   "id": "ef889634",
   "metadata": {},
   "outputs": [
    {
     "data": {
      "text/plain": [
       "0.81"
      ]
     },
     "execution_count": 21,
     "metadata": {},
     "output_type": "execute_result"
    }
   ],
   "source": [
    "bpl_cr"
   ]
  },
  {
   "cell_type": "code",
   "execution_count": 22,
   "id": "b01be08e",
   "metadata": {},
   "outputs": [],
   "source": [
    "bpl_cr = 0.81"
   ]
  },
  {
   "cell_type": "code",
   "execution_count": 23,
   "id": "87dd98fc",
   "metadata": {},
   "outputs": [],
   "source": [
    "bpl = generate_bpl_data(pop, bpl_perc2011, bpl_cr)\n",
    "tbp = pd.merge(all_off, bpl, on=['State.UT', 'year'], how='inner')"
   ]
  },
  {
   "cell_type": "code",
   "execution_count": 24,
   "id": "433dd878",
   "metadata": {},
   "outputs": [],
   "source": [
    "bpl_alt_fit = linear_model.LinearRegression().fit(tbp[['bpl_pop']], tbp['allotment'])"
   ]
  },
  {
   "cell_type": "code",
   "execution_count": 25,
   "id": "4e3f98f4",
   "metadata": {},
   "outputs": [
    {
     "name": "stderr",
     "output_type": "stream",
     "text": [
      "/Users/arun/miniconda3/lib/python3.8/site-packages/statsmodels/tsa/tsatools.py:142: FutureWarning:\n",
      "\n",
      "In a future version of pandas all arguments of concat except for the argument 'objs' will be keyword-only\n",
      "\n"
     ]
    },
    {
     "data": {
      "text/html": [
       "<table class=\"simpletable\">\n",
       "<caption>OLS Regression Results</caption>\n",
       "<tr>\n",
       "  <th>Dep. Variable:</th>        <td>allotment</td>    <th>  R-squared:         </th> <td>   0.809</td> \n",
       "</tr>\n",
       "<tr>\n",
       "  <th>Model:</th>                   <td>OLS</td>       <th>  Adj. R-squared:    </th> <td>   0.809</td> \n",
       "</tr>\n",
       "<tr>\n",
       "  <th>Method:</th>             <td>Least Squares</td>  <th>  F-statistic:       </th> <td>   1201.</td> \n",
       "</tr>\n",
       "<tr>\n",
       "  <th>Date:</th>             <td>Mon, 21 Mar 2022</td> <th>  Prob (F-statistic):</th> <td>7.58e-104</td>\n",
       "</tr>\n",
       "<tr>\n",
       "  <th>Time:</th>                 <td>18:24:52</td>     <th>  Log-Likelihood:    </th> <td> -2281.8</td> \n",
       "</tr>\n",
       "<tr>\n",
       "  <th>No. Observations:</th>      <td>   285</td>      <th>  AIC:               </th> <td>   4568.</td> \n",
       "</tr>\n",
       "<tr>\n",
       "  <th>Df Residuals:</th>          <td>   283</td>      <th>  BIC:               </th> <td>   4575.</td> \n",
       "</tr>\n",
       "<tr>\n",
       "  <th>Df Model:</th>              <td>     1</td>      <th>                     </th>     <td> </td>    \n",
       "</tr>\n",
       "<tr>\n",
       "  <th>Covariance Type:</th>      <td>nonrobust</td>    <th>                     </th>     <td> </td>    \n",
       "</tr>\n",
       "</table>\n",
       "<table class=\"simpletable\">\n",
       "<tr>\n",
       "     <td></td>        <th>coef</th>     <th>std err</th>      <th>t</th>      <th>P>|t|</th>  <th>[0.025</th>    <th>0.975]</th>  \n",
       "</tr>\n",
       "<tr>\n",
       "  <th>const</th>   <td>  332.2602</td> <td>   53.966</td> <td>    6.157</td> <td> 0.000</td> <td>  226.035</td> <td>  438.485</td>\n",
       "</tr>\n",
       "<tr>\n",
       "  <th>bpl_pop</th> <td>    0.0002</td> <td> 4.84e-06</td> <td>   34.660</td> <td> 0.000</td> <td>    0.000</td> <td>    0.000</td>\n",
       "</tr>\n",
       "</table>\n",
       "<table class=\"simpletable\">\n",
       "<tr>\n",
       "  <th>Omnibus:</th>       <td>96.346</td> <th>  Durbin-Watson:     </th> <td>   2.011</td>\n",
       "</tr>\n",
       "<tr>\n",
       "  <th>Prob(Omnibus):</th> <td> 0.000</td> <th>  Jarque-Bera (JB):  </th> <td> 322.967</td>\n",
       "</tr>\n",
       "<tr>\n",
       "  <th>Skew:</th>          <td> 1.455</td> <th>  Prob(JB):          </th> <td>7.39e-71</td>\n",
       "</tr>\n",
       "<tr>\n",
       "  <th>Kurtosis:</th>      <td> 7.328</td> <th>  Cond. No.          </th> <td>1.39e+07</td>\n",
       "</tr>\n",
       "</table><br/><br/>Notes:<br/>[1] Standard Errors assume that the covariance matrix of the errors is correctly specified.<br/>[2] The condition number is large, 1.39e+07. This might indicate that there are<br/>strong multicollinearity or other numerical problems."
      ],
      "text/plain": [
       "<class 'statsmodels.iolib.summary.Summary'>\n",
       "\"\"\"\n",
       "                            OLS Regression Results                            \n",
       "==============================================================================\n",
       "Dep. Variable:              allotment   R-squared:                       0.809\n",
       "Model:                            OLS   Adj. R-squared:                  0.809\n",
       "Method:                 Least Squares   F-statistic:                     1201.\n",
       "Date:                Mon, 21 Mar 2022   Prob (F-statistic):          7.58e-104\n",
       "Time:                        18:24:52   Log-Likelihood:                -2281.8\n",
       "No. Observations:                 285   AIC:                             4568.\n",
       "Df Residuals:                     283   BIC:                             4575.\n",
       "Df Model:                           1                                         \n",
       "Covariance Type:            nonrobust                                         \n",
       "==============================================================================\n",
       "                 coef    std err          t      P>|t|      [0.025      0.975]\n",
       "------------------------------------------------------------------------------\n",
       "const        332.2602     53.966      6.157      0.000     226.035     438.485\n",
       "bpl_pop        0.0002   4.84e-06     34.660      0.000       0.000       0.000\n",
       "==============================================================================\n",
       "Omnibus:                       96.346   Durbin-Watson:                   2.011\n",
       "Prob(Omnibus):                  0.000   Jarque-Bera (JB):              322.967\n",
       "Skew:                           1.455   Prob(JB):                     7.39e-71\n",
       "Kurtosis:                       7.328   Cond. No.                     1.39e+07\n",
       "==============================================================================\n",
       "\n",
       "Notes:\n",
       "[1] Standard Errors assume that the covariance matrix of the errors is correctly specified.\n",
       "[2] The condition number is large, 1.39e+07. This might indicate that there are\n",
       "strong multicollinearity or other numerical problems.\n",
       "\"\"\""
      ]
     },
     "execution_count": 25,
     "metadata": {},
     "output_type": "execute_result"
    }
   ],
   "source": [
    "est = sm.OLS(tbp[['allotment']], sm.add_constant(tbp[['bpl_pop']]))\n",
    "\n",
    "a = est.fit().summary()\n",
    "#print (a.as_latex())\n",
    "a"
   ]
  },
  {
   "cell_type": "markdown",
   "id": "d40efb35",
   "metadata": {},
   "source": [
    "## Forecasts for futures"
   ]
  },
  {
   "cell_type": "code",
   "execution_count": 26,
   "id": "5e4f4c5d",
   "metadata": {},
   "outputs": [],
   "source": [
    "r = rice.copy()\n",
    "w = wheat.copy()\n",
    "r.rename({\"allotment\":\"rice_allotment\"}, axis=1, inplace=True)\n",
    "w.rename({\"allotment\":\"wheat_allotment\"}, axis=1, inplace=True)\n",
    "r.drop([\"zone\", \"offtake\"], axis=1, inplace=True)\n",
    "w.drop([\"zone\", \"offtake\"], axis=1, inplace=True)\n",
    "rw = pd.merge(r, w, on=['State.UT', 'year'], how='inner')\n",
    "\n",
    "rw['rice_perc'] = rw['rice_allotment'] / (rw['rice_allotment'] + rw['wheat_allotment'])\n",
    "rw['wheat_perc'] = rw['wheat_allotment'] / (rw['rice_allotment'] + rw['wheat_allotment'])\n",
    "\n",
    "rw['rice_moving_perc'] = 0\n",
    "rw['wheat_moving_perc'] = 0"
   ]
  },
  {
   "cell_type": "markdown",
   "id": "49a8822b",
   "metadata": {},
   "source": [
    "Calculat moving percentage"
   ]
  },
  {
   "cell_type": "code",
   "execution_count": 27,
   "id": "3ce07a69",
   "metadata": {},
   "outputs": [
    {
     "data": {
      "text/plain": [
       "(561, 8)"
      ]
     },
     "execution_count": 27,
     "metadata": {},
     "output_type": "execute_result"
    }
   ],
   "source": [
    "for year in range(2006, 2020):\n",
    "    for state in list(rw['State.UT'].unique()):\n",
    "        df2 = rw[((rw['State.UT'] == state) & ((rw['year'] < year) & (rw['year'] >= year-3)))]\n",
    "        r_m_p, w_m_p = df2['rice_perc'].mean(), df2['wheat_perc'].mean()\n",
    "        idx = rw[((rw['State.UT'] == state) & (rw['year'] == year))].index\n",
    "        if len(idx) > 0:\n",
    "            rw['rice_moving_perc'][idx] = r_m_p\n",
    "            rw['wheat_moving_perc'][idx] = w_m_p\n",
    "\n",
    "rw.shape"
   ]
  },
  {
   "cell_type": "code",
   "execution_count": 28,
   "id": "a9482a1b",
   "metadata": {},
   "outputs": [
    {
     "data": {
      "text/plain": [
       "(465, 8)"
      ]
     },
     "execution_count": 28,
     "metadata": {},
     "output_type": "execute_result"
    }
   ],
   "source": [
    "rw = rw[(rw['rice_moving_perc'] > 0) & (rw['wheat_moving_perc'] > 0)]\n",
    "rw.shape"
   ]
  },
  {
   "cell_type": "code",
   "execution_count": 29,
   "id": "08820624",
   "metadata": {},
   "outputs": [
    {
     "data": {
      "text/html": [
       "<div>\n",
       "<style scoped>\n",
       "    .dataframe tbody tr th:only-of-type {\n",
       "        vertical-align: middle;\n",
       "    }\n",
       "\n",
       "    .dataframe tbody tr th {\n",
       "        vertical-align: top;\n",
       "    }\n",
       "\n",
       "    .dataframe thead th {\n",
       "        text-align: right;\n",
       "    }\n",
       "</style>\n",
       "<table border=\"1\" class=\"dataframe\">\n",
       "  <thead>\n",
       "    <tr style=\"text-align: right;\">\n",
       "      <th></th>\n",
       "      <th>State.UT</th>\n",
       "      <th>percent</th>\n",
       "      <th>year</th>\n",
       "      <th>Population</th>\n",
       "      <th>log_pop</th>\n",
       "      <th>bpl_pop</th>\n",
       "      <th>log_bpl_pop</th>\n",
       "    </tr>\n",
       "  </thead>\n",
       "  <tbody>\n",
       "    <tr>\n",
       "      <th>0</th>\n",
       "      <td>A&amp;N ISLANDS</td>\n",
       "      <td>1.00</td>\n",
       "      <td>2011</td>\n",
       "      <td>381000</td>\n",
       "      <td>12.850557</td>\n",
       "      <td>3810.0</td>\n",
       "      <td>12.850557</td>\n",
       "    </tr>\n",
       "    <tr>\n",
       "      <th>1</th>\n",
       "      <td>ANDHRA PR</td>\n",
       "      <td>9.20</td>\n",
       "      <td>2011</td>\n",
       "      <td>84581000</td>\n",
       "      <td>18.253220</td>\n",
       "      <td>7781452.0</td>\n",
       "      <td>18.253220</td>\n",
       "    </tr>\n",
       "    <tr>\n",
       "      <th>2</th>\n",
       "      <td>ARUNACHAL</td>\n",
       "      <td>34.67</td>\n",
       "      <td>2011</td>\n",
       "      <td>1384000</td>\n",
       "      <td>14.140489</td>\n",
       "      <td>479832.8</td>\n",
       "      <td>14.140489</td>\n",
       "    </tr>\n",
       "    <tr>\n",
       "      <th>3</th>\n",
       "      <td>ASSAM</td>\n",
       "      <td>31.98</td>\n",
       "      <td>2011</td>\n",
       "      <td>31206000</td>\n",
       "      <td>17.256121</td>\n",
       "      <td>9979678.8</td>\n",
       "      <td>17.256121</td>\n",
       "    </tr>\n",
       "    <tr>\n",
       "      <th>4</th>\n",
       "      <td>BIHAR</td>\n",
       "      <td>33.74</td>\n",
       "      <td>2011</td>\n",
       "      <td>104099000</td>\n",
       "      <td>18.460853</td>\n",
       "      <td>35123002.6</td>\n",
       "      <td>18.460853</td>\n",
       "    </tr>\n",
       "  </tbody>\n",
       "</table>\n",
       "</div>"
      ],
      "text/plain": [
       "      State.UT  percent  year  Population    log_pop     bpl_pop  log_bpl_pop\n",
       "0  A&N ISLANDS     1.00  2011      381000  12.850557      3810.0    12.850557\n",
       "1    ANDHRA PR     9.20  2011    84581000  18.253220   7781452.0    18.253220\n",
       "2    ARUNACHAL    34.67  2011     1384000  14.140489    479832.8    14.140489\n",
       "3        ASSAM    31.98  2011    31206000  17.256121   9979678.8    17.256121\n",
       "4        BIHAR    33.74  2011   104099000  18.460853  35123002.6    18.460853"
      ]
     },
     "execution_count": 29,
     "metadata": {},
     "output_type": "execute_result"
    }
   ],
   "source": [
    "bpl_cr = 0.81\n",
    "\n",
    "bpl_pop = generate_bpl_data(pop, bpl_perc2011, bpl_cr)\n",
    "\n",
    "bpl.head()"
   ]
  },
  {
   "cell_type": "code",
   "execution_count": 30,
   "id": "0fe1dfc1",
   "metadata": {},
   "outputs": [],
   "source": [
    "def calculate_adj_r_squared(n, p, r2):\n",
    "    a = (n - 1) / (n - p - 1)\n",
    "    b = (1 - r2 **2) * a\n",
    "    return 1 - b"
   ]
  },
  {
   "cell_type": "markdown",
   "id": "c5b6fc1f",
   "metadata": {},
   "source": [
    "## Equation C"
   ]
  },
  {
   "cell_type": "code",
   "execution_count": 31,
   "id": "84dbd05b",
   "metadata": {},
   "outputs": [
    {
     "data": {
      "text/plain": [
       "array([1.80685613e-05, 3.11026643e-05, 1.41455778e+03])"
      ]
     },
     "execution_count": 31,
     "metadata": {},
     "output_type": "execute_result"
    }
   ],
   "source": [
    "r_bp = pd.merge(rw, bpl_pop, on=['State.UT', 'year'], how='inner')\n",
    "r_bp = remove_outliers(r_bp, [\"bpl_pop\", \"rice_allotment\", \"rice_moving_perc\", \"wheat_moving_perc\"])\n",
    "\n",
    "rice_bpl_pop_fit = linear_model.LinearRegression()\n",
    "rice_bpl_pop_fit = rice_bpl_pop_fit.fit(r_bp[['Population', 'bpl_pop', 'rice_moving_perc']], r_bp['rice_allotment'])\n",
    "rice_bpl_pop_fit.coef_"
   ]
  },
  {
   "cell_type": "code",
   "execution_count": 33,
   "id": "0e2427fa",
   "metadata": {},
   "outputs": [
    {
     "data": {
      "text/plain": [
       "['models/rice_bpl_pop_fit.joblib']"
      ]
     },
     "execution_count": 33,
     "metadata": {},
     "output_type": "execute_result"
    }
   ],
   "source": [
    "joblib.dump(rice_bpl_pop_fit, 'models/rice_bpl_pop_fit.joblib')"
   ]
  },
  {
   "cell_type": "code",
   "execution_count": 32,
   "id": "b732a35c",
   "metadata": {},
   "outputs": [
    {
     "name": "stderr",
     "output_type": "stream",
     "text": [
      "/Users/arun/miniconda3/lib/python3.8/site-packages/statsmodels/tsa/tsatools.py:142: FutureWarning: In a future version of pandas all arguments of concat except for the argument 'objs' will be keyword-only\n",
      "  x = pd.concat(x[::order], 1)\n"
     ]
    },
    {
     "data": {
      "text/html": [
       "<table class=\"simpletable\">\n",
       "<caption>OLS Regression Results</caption>\n",
       "<tr>\n",
       "  <th>Dep. Variable:</th>     <td>rice_allotment</td>  <th>  R-squared:         </th> <td>   0.768</td>\n",
       "</tr>\n",
       "<tr>\n",
       "  <th>Model:</th>                   <td>OLS</td>       <th>  Adj. R-squared:    </th> <td>   0.765</td>\n",
       "</tr>\n",
       "<tr>\n",
       "  <th>Method:</th>             <td>Least Squares</td>  <th>  F-statistic:       </th> <td>   302.6</td>\n",
       "</tr>\n",
       "<tr>\n",
       "  <th>Date:</th>             <td>Tue, 17 Aug 2021</td> <th>  Prob (F-statistic):</th> <td>8.80e-87</td>\n",
       "</tr>\n",
       "<tr>\n",
       "  <th>Time:</th>                 <td>15:15:13</td>     <th>  Log-Likelihood:    </th> <td> -2097.6</td>\n",
       "</tr>\n",
       "<tr>\n",
       "  <th>No. Observations:</th>      <td>   279</td>      <th>  AIC:               </th> <td>   4203.</td>\n",
       "</tr>\n",
       "<tr>\n",
       "  <th>Df Residuals:</th>          <td>   275</td>      <th>  BIC:               </th> <td>   4218.</td>\n",
       "</tr>\n",
       "<tr>\n",
       "  <th>Df Model:</th>              <td>     3</td>      <th>                     </th>     <td> </td>   \n",
       "</tr>\n",
       "<tr>\n",
       "  <th>Covariance Type:</th>      <td>nonrobust</td>    <th>                     </th>     <td> </td>   \n",
       "</tr>\n",
       "</table>\n",
       "<table class=\"simpletable\">\n",
       "<tr>\n",
       "          <td></td>            <th>coef</th>     <th>std err</th>      <th>t</th>      <th>P>|t|</th>  <th>[0.025</th>    <th>0.975]</th>  \n",
       "</tr>\n",
       "<tr>\n",
       "  <th>const</th>            <td> -801.3456</td> <td>   76.499</td> <td>  -10.475</td> <td> 0.000</td> <td> -951.944</td> <td> -650.747</td>\n",
       "</tr>\n",
       "<tr>\n",
       "  <th>Population</th>       <td> 1.807e-05</td> <td> 2.49e-06</td> <td>    7.253</td> <td> 0.000</td> <td> 1.32e-05</td> <td>  2.3e-05</td>\n",
       "</tr>\n",
       "<tr>\n",
       "  <th>bpl_pop</th>          <td>  3.11e-05</td> <td> 9.35e-06</td> <td>    3.328</td> <td> 0.001</td> <td> 1.27e-05</td> <td> 4.95e-05</td>\n",
       "</tr>\n",
       "<tr>\n",
       "  <th>rice_moving_perc</th> <td> 1414.5578</td> <td>  101.851</td> <td>   13.888</td> <td> 0.000</td> <td> 1214.051</td> <td> 1615.065</td>\n",
       "</tr>\n",
       "</table>\n",
       "<table class=\"simpletable\">\n",
       "<tr>\n",
       "  <th>Omnibus:</th>       <td> 4.396</td> <th>  Durbin-Watson:     </th> <td>   1.720</td>\n",
       "</tr>\n",
       "<tr>\n",
       "  <th>Prob(Omnibus):</th> <td> 0.111</td> <th>  Jarque-Bera (JB):  </th> <td>   4.071</td>\n",
       "</tr>\n",
       "<tr>\n",
       "  <th>Skew:</th>          <td> 0.261</td> <th>  Prob(JB):          </th> <td>   0.131</td>\n",
       "</tr>\n",
       "<tr>\n",
       "  <th>Kurtosis:</th>      <td> 3.278</td> <th>  Cond. No.          </th> <td>1.96e+08</td>\n",
       "</tr>\n",
       "</table><br/><br/>Notes:<br/>[1] Standard Errors assume that the covariance matrix of the errors is correctly specified.<br/>[2] The condition number is large, 1.96e+08. This might indicate that there are<br/>strong multicollinearity or other numerical problems."
      ],
      "text/plain": [
       "<class 'statsmodels.iolib.summary.Summary'>\n",
       "\"\"\"\n",
       "                            OLS Regression Results                            \n",
       "==============================================================================\n",
       "Dep. Variable:         rice_allotment   R-squared:                       0.768\n",
       "Model:                            OLS   Adj. R-squared:                  0.765\n",
       "Method:                 Least Squares   F-statistic:                     302.6\n",
       "Date:                Tue, 17 Aug 2021   Prob (F-statistic):           8.80e-87\n",
       "Time:                        15:15:13   Log-Likelihood:                -2097.6\n",
       "No. Observations:                 279   AIC:                             4203.\n",
       "Df Residuals:                     275   BIC:                             4218.\n",
       "Df Model:                           3                                         \n",
       "Covariance Type:            nonrobust                                         \n",
       "====================================================================================\n",
       "                       coef    std err          t      P>|t|      [0.025      0.975]\n",
       "------------------------------------------------------------------------------------\n",
       "const             -801.3456     76.499    -10.475      0.000    -951.944    -650.747\n",
       "Population        1.807e-05   2.49e-06      7.253      0.000    1.32e-05     2.3e-05\n",
       "bpl_pop            3.11e-05   9.35e-06      3.328      0.001    1.27e-05    4.95e-05\n",
       "rice_moving_perc  1414.5578    101.851     13.888      0.000    1214.051    1615.065\n",
       "==============================================================================\n",
       "Omnibus:                        4.396   Durbin-Watson:                   1.720\n",
       "Prob(Omnibus):                  0.111   Jarque-Bera (JB):                4.071\n",
       "Skew:                           0.261   Prob(JB):                        0.131\n",
       "Kurtosis:                       3.278   Cond. No.                     1.96e+08\n",
       "==============================================================================\n",
       "\n",
       "Notes:\n",
       "[1] Standard Errors assume that the covariance matrix of the errors is correctly specified.\n",
       "[2] The condition number is large, 1.96e+08. This might indicate that there are\n",
       "strong multicollinearity or other numerical problems.\n",
       "\"\"\""
      ]
     },
     "execution_count": 32,
     "metadata": {},
     "output_type": "execute_result"
    }
   ],
   "source": [
    "x2 = sm.add_constant(r_bp[['Population', 'bpl_pop', 'rice_moving_perc']])\n",
    "\n",
    "est = sm.OLS(r_bp[['rice_allotment']], x2)\n",
    "\n",
    "a = est.fit().summary()\n",
    "\n",
    "a"
   ]
  },
  {
   "cell_type": "markdown",
   "id": "cf59794e",
   "metadata": {},
   "source": [
    "## Equation D"
   ]
  },
  {
   "cell_type": "code",
   "execution_count": 34,
   "id": "e6584ab0",
   "metadata": {},
   "outputs": [],
   "source": [
    "w_bp = pd.merge(rw, bpl_pop, on=['State.UT', 'year'], how='inner')\n",
    "w_bp = remove_outliers(w_bp, [\"bpl_pop\", \"wheat_allotment\", \"wheat_moving_perc\", \"wheat_moving_perc\"])\n",
    "\n",
    "wheat_bpl_pop_fit = linear_model.LinearRegression()\n",
    "wheat_bpl_pop_fit = wheat_bpl_pop_fit.fit(w_bp[['Population', 'bpl_pop', 'wheat_moving_perc']], w_bp['wheat_allotment'])"
   ]
  },
  {
   "cell_type": "code",
   "execution_count": 35,
   "id": "c58167da",
   "metadata": {},
   "outputs": [
    {
     "data": {
      "text/plain": [
       "['models/wheat_bpl_pop_fit.joblib']"
      ]
     },
     "execution_count": 35,
     "metadata": {},
     "output_type": "execute_result"
    }
   ],
   "source": [
    "joblib.dump(wheat_bpl_pop_fit, 'models/wheat_bpl_pop_fit.joblib')"
   ]
  },
  {
   "cell_type": "code",
   "execution_count": 36,
   "id": "aad91ddc",
   "metadata": {},
   "outputs": [
    {
     "name": "stderr",
     "output_type": "stream",
     "text": [
      "/Users/arun/miniconda3/lib/python3.8/site-packages/statsmodels/tsa/tsatools.py:142: FutureWarning: In a future version of pandas all arguments of concat except for the argument 'objs' will be keyword-only\n",
      "  x = pd.concat(x[::order], 1)\n"
     ]
    },
    {
     "data": {
      "text/html": [
       "<table class=\"simpletable\">\n",
       "<caption>OLS Regression Results</caption>\n",
       "<tr>\n",
       "  <th>Dep. Variable:</th>     <td>wheat_allotment</td> <th>  R-squared:         </th> <td>   0.818</td> \n",
       "</tr>\n",
       "<tr>\n",
       "  <th>Model:</th>                   <td>OLS</td>       <th>  Adj. R-squared:    </th> <td>   0.816</td> \n",
       "</tr>\n",
       "<tr>\n",
       "  <th>Method:</th>             <td>Least Squares</td>  <th>  F-statistic:       </th> <td>   414.0</td> \n",
       "</tr>\n",
       "<tr>\n",
       "  <th>Date:</th>             <td>Tue, 17 Aug 2021</td> <th>  Prob (F-statistic):</th> <td>8.12e-102</td>\n",
       "</tr>\n",
       "<tr>\n",
       "  <th>Time:</th>                 <td>15:16:24</td>     <th>  Log-Likelihood:    </th> <td> -2073.0</td> \n",
       "</tr>\n",
       "<tr>\n",
       "  <th>No. Observations:</th>      <td>   280</td>      <th>  AIC:               </th> <td>   4154.</td> \n",
       "</tr>\n",
       "<tr>\n",
       "  <th>Df Residuals:</th>          <td>   276</td>      <th>  BIC:               </th> <td>   4169.</td> \n",
       "</tr>\n",
       "<tr>\n",
       "  <th>Df Model:</th>              <td>     3</td>      <th>                     </th>     <td> </td>    \n",
       "</tr>\n",
       "<tr>\n",
       "  <th>Covariance Type:</th>      <td>nonrobust</td>    <th>                     </th>     <td> </td>    \n",
       "</tr>\n",
       "</table>\n",
       "<table class=\"simpletable\">\n",
       "<tr>\n",
       "          <td></td>             <th>coef</th>     <th>std err</th>      <th>t</th>      <th>P>|t|</th>  <th>[0.025</th>    <th>0.975]</th>  \n",
       "</tr>\n",
       "<tr>\n",
       "  <th>const</th>             <td> -443.3584</td> <td>   42.406</td> <td>  -10.455</td> <td> 0.000</td> <td> -526.839</td> <td> -359.877</td>\n",
       "</tr>\n",
       "<tr>\n",
       "  <th>Population</th>        <td> 1.804e-05</td> <td> 2.04e-06</td> <td>    8.847</td> <td> 0.000</td> <td>  1.4e-05</td> <td> 2.21e-05</td>\n",
       "</tr>\n",
       "<tr>\n",
       "  <th>bpl_pop</th>           <td> 1.268e-05</td> <td> 7.74e-06</td> <td>    1.638</td> <td> 0.103</td> <td>-2.56e-06</td> <td> 2.79e-05</td>\n",
       "</tr>\n",
       "<tr>\n",
       "  <th>wheat_moving_perc</th> <td> 1243.5287</td> <td>   86.888</td> <td>   14.312</td> <td> 0.000</td> <td> 1072.481</td> <td> 1414.576</td>\n",
       "</tr>\n",
       "</table>\n",
       "<table class=\"simpletable\">\n",
       "<tr>\n",
       "  <th>Omnibus:</th>       <td> 4.446</td> <th>  Durbin-Watson:     </th> <td>   1.703</td>\n",
       "</tr>\n",
       "<tr>\n",
       "  <th>Prob(Omnibus):</th> <td> 0.108</td> <th>  Jarque-Bera (JB):  </th> <td>   5.826</td>\n",
       "</tr>\n",
       "<tr>\n",
       "  <th>Skew:</th>          <td> 0.005</td> <th>  Prob(JB):          </th> <td>  0.0543</td>\n",
       "</tr>\n",
       "<tr>\n",
       "  <th>Kurtosis:</th>      <td> 3.707</td> <th>  Cond. No.          </th> <td>1.62e+08</td>\n",
       "</tr>\n",
       "</table><br/><br/>Notes:<br/>[1] Standard Errors assume that the covariance matrix of the errors is correctly specified.<br/>[2] The condition number is large, 1.62e+08. This might indicate that there are<br/>strong multicollinearity or other numerical problems."
      ],
      "text/plain": [
       "<class 'statsmodels.iolib.summary.Summary'>\n",
       "\"\"\"\n",
       "                            OLS Regression Results                            \n",
       "==============================================================================\n",
       "Dep. Variable:        wheat_allotment   R-squared:                       0.818\n",
       "Model:                            OLS   Adj. R-squared:                  0.816\n",
       "Method:                 Least Squares   F-statistic:                     414.0\n",
       "Date:                Tue, 17 Aug 2021   Prob (F-statistic):          8.12e-102\n",
       "Time:                        15:16:24   Log-Likelihood:                -2073.0\n",
       "No. Observations:                 280   AIC:                             4154.\n",
       "Df Residuals:                     276   BIC:                             4169.\n",
       "Df Model:                           3                                         \n",
       "Covariance Type:            nonrobust                                         \n",
       "=====================================================================================\n",
       "                        coef    std err          t      P>|t|      [0.025      0.975]\n",
       "-------------------------------------------------------------------------------------\n",
       "const              -443.3584     42.406    -10.455      0.000    -526.839    -359.877\n",
       "Population         1.804e-05   2.04e-06      8.847      0.000     1.4e-05    2.21e-05\n",
       "bpl_pop            1.268e-05   7.74e-06      1.638      0.103   -2.56e-06    2.79e-05\n",
       "wheat_moving_perc  1243.5287     86.888     14.312      0.000    1072.481    1414.576\n",
       "==============================================================================\n",
       "Omnibus:                        4.446   Durbin-Watson:                   1.703\n",
       "Prob(Omnibus):                  0.108   Jarque-Bera (JB):                5.826\n",
       "Skew:                           0.005   Prob(JB):                       0.0543\n",
       "Kurtosis:                       3.707   Cond. No.                     1.62e+08\n",
       "==============================================================================\n",
       "\n",
       "Notes:\n",
       "[1] Standard Errors assume that the covariance matrix of the errors is correctly specified.\n",
       "[2] The condition number is large, 1.62e+08. This might indicate that there are\n",
       "strong multicollinearity or other numerical problems.\n",
       "\"\"\""
      ]
     },
     "execution_count": 36,
     "metadata": {},
     "output_type": "execute_result"
    }
   ],
   "source": [
    "x2 = sm.add_constant(w_bp[['Population', 'bpl_pop', 'wheat_moving_perc']])\n",
    "\n",
    "est = sm.OLS(w_bp[['wheat_allotment']], x2)\n",
    "\n",
    "a = est.fit().summary()\n",
    "\n",
    "a"
   ]
  }
 ],
 "metadata": {
  "kernelspec": {
   "display_name": "Python 3 (ipykernel)",
   "language": "python",
   "name": "python3"
  },
  "language_info": {
   "codemirror_mode": {
    "name": "ipython",
    "version": 3
   },
   "file_extension": ".py",
   "mimetype": "text/x-python",
   "name": "python",
   "nbconvert_exporter": "python",
   "pygments_lexer": "ipython3",
   "version": "3.8.5"
  }
 },
 "nbformat": 4,
 "nbformat_minor": 5
}
