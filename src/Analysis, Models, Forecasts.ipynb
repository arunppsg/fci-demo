{
 "cells": [
  {
   "cell_type": "markdown",
   "id": "57615752",
   "metadata": {},
   "source": [
    "# Generation of Datasets"
   ]
  },
  {
   "cell_type": "code",
   "execution_count": 331,
   "id": "7d3d658e",
   "metadata": {},
   "outputs": [],
   "source": [
    "import pandas as pd\n",
    "pd.options.mode.chained_assignment = None  # default='warn'\n",
    "\n",
    "import numpy as np\n",
    "from scipy import stats\n",
    "\n",
    "from sklearn import linear_model\n",
    "from sklearn.metrics import mean_squared_error, r2_score\n",
    "import matplotlib.pyplot as plt"
   ]
  },
  {
   "cell_type": "code",
   "execution_count": 42,
   "id": "a871f559",
   "metadata": {},
   "outputs": [],
   "source": [
    "def remove_outliers(df, cols):\n",
    "    for col in cols:\n",
    "        df = df[np.abs(stats.zscore(df[col]) <= 3)].reset_index(drop=True)\n",
    "    return df\n",
    "\n",
    "def generate_bpl_data(pop, bpl, bpl_cr):\n",
    "    states = bpl['State.UT'].unique()\n",
    "    states\n",
    "    for state in states:\n",
    "        perc = bpl[(bpl['State.UT'] == state) & (bpl['year'] == 2011)]['percent'].values[0]\n",
    "        for year in range(2012, 2020):\n",
    "            perc = perc + bpl_cr\n",
    "            new_entry = pd.DataFrame({'State.UT':[state], 'percent':[perc], 'year':[year]})\n",
    "            bpl = pd.concat([bpl, new_entry], axis=0)\n",
    "\n",
    "    state = \"ANDHRA PR\"\n",
    "\n",
    "    bpl = bpl[~((bpl['year'] > 2013) & (bpl['State.UT'] == state))]\n",
    "\n",
    "    bpl = pd.merge(bpl, pop, on=['State.UT', 'year'])\n",
    "    bpl['bpl_pop'] = bpl['percent'] * bpl['Population'] / 100\n",
    "    bpl = bpl[(bpl['bpl_pop'] > 0)]\n",
    "    bpl['log_bpl_pop'] = np.log1p(bpl['Population'])\n",
    "    return bpl"
   ]
  },
  {
   "cell_type": "markdown",
   "id": "832f8c43",
   "metadata": {},
   "source": [
    "Loading rice and wheat consumption datasets and removal of outliers in them."
   ]
  },
  {
   "cell_type": "code",
   "execution_count": 346,
   "id": "2557c05f",
   "metadata": {},
   "outputs": [
    {
     "name": "stdout",
     "output_type": "stream",
     "text": [
      "(601, 5)\n",
      "(586, 5)\n"
     ]
    }
   ],
   "source": [
    "rice = pd.read_excel(\"Data/rice.xlsx\")\n",
    "wheat = pd.read_excel(\"Data/wheat.xlsx\")\n",
    "print (rice.shape)\n",
    "\n",
    "rice = remove_outliers(rice, [\"offtake\", \"allotment\"])\n",
    "wheat = remove_outliers(wheat, [\"offtake\", \"allotment\"])\n",
    "print (rice.shape)"
   ]
  },
  {
   "cell_type": "markdown",
   "id": "95d6d599",
   "metadata": {},
   "source": [
    "Finding rice consuming and wheat consuming states"
   ]
  },
  {
   "cell_type": "code",
   "execution_count": 347,
   "id": "34422d8a",
   "metadata": {},
   "outputs": [
    {
     "data": {
      "text/html": [
       "<div>\n",
       "<style scoped>\n",
       "    .dataframe tbody tr th:only-of-type {\n",
       "        vertical-align: middle;\n",
       "    }\n",
       "\n",
       "    .dataframe tbody tr th {\n",
       "        vertical-align: top;\n",
       "    }\n",
       "\n",
       "    .dataframe thead th {\n",
       "        text-align: right;\n",
       "    }\n",
       "</style>\n",
       "<table border=\"1\" class=\"dataframe\">\n",
       "  <thead>\n",
       "    <tr style=\"text-align: right;\">\n",
       "      <th></th>\n",
       "      <th>State.UT</th>\n",
       "      <th>rice_allotment</th>\n",
       "      <th>wheat_allotment</th>\n",
       "      <th>perc_rice</th>\n",
       "      <th>perc_wheat</th>\n",
       "    </tr>\n",
       "  </thead>\n",
       "  <tbody>\n",
       "    <tr>\n",
       "      <th>0</th>\n",
       "      <td>A&amp;N ISLANDS</td>\n",
       "      <td>485.20</td>\n",
       "      <td>232.12</td>\n",
       "      <td>0.676407</td>\n",
       "      <td>0.323593</td>\n",
       "    </tr>\n",
       "    <tr>\n",
       "      <th>1</th>\n",
       "      <td>ANDHRA PR</td>\n",
       "      <td>49027.06</td>\n",
       "      <td>3712.78</td>\n",
       "      <td>0.929602</td>\n",
       "      <td>0.070398</td>\n",
       "    </tr>\n",
       "    <tr>\n",
       "      <th>2</th>\n",
       "      <td>ARUNACHAL</td>\n",
       "      <td>1843.87</td>\n",
       "      <td>210.01</td>\n",
       "      <td>0.897750</td>\n",
       "      <td>0.102250</td>\n",
       "    </tr>\n",
       "    <tr>\n",
       "      <th>3</th>\n",
       "      <td>ASSAM</td>\n",
       "      <td>29957.20</td>\n",
       "      <td>6564.82</td>\n",
       "      <td>0.820250</td>\n",
       "      <td>0.179750</td>\n",
       "    </tr>\n",
       "    <tr>\n",
       "      <th>4</th>\n",
       "      <td>BIHAR</td>\n",
       "      <td>52286.72</td>\n",
       "      <td>36073.22</td>\n",
       "      <td>0.591747</td>\n",
       "      <td>0.408253</td>\n",
       "    </tr>\n",
       "  </tbody>\n",
       "</table>\n",
       "</div>"
      ],
      "text/plain": [
       "      State.UT  rice_allotment  wheat_allotment  perc_rice  perc_wheat\n",
       "0  A&N ISLANDS          485.20           232.12   0.676407    0.323593\n",
       "1    ANDHRA PR        49027.06          3712.78   0.929602    0.070398\n",
       "2    ARUNACHAL         1843.87           210.01   0.897750    0.102250\n",
       "3        ASSAM        29957.20          6564.82   0.820250    0.179750\n",
       "4        BIHAR        52286.72         36073.22   0.591747    0.408253"
      ]
     },
     "execution_count": 347,
     "metadata": {},
     "output_type": "execute_result"
    }
   ],
   "source": [
    "rice_summary = rice.groupby(\"State.UT\").agg({\"allotment\":sum}).reset_index().\\\n",
    "                rename({\"allotment\":\"rice_allotment\"}, axis=1)\n",
    "wheat_summary = wheat.groupby(\"State.UT\").agg({\"allotment\":sum}).reset_index().\\\n",
    "                rename({\"allotment\":\"wheat_allotment\"}, axis=1)\n",
    "\n",
    "rice_wheat = pd.merge(rice_summary, wheat_summary, on='State.UT', how='inner')\n",
    "rice_wheat['perc_rice'] = rice_wheat['rice_allotment'] / (rice_wheat['rice_allotment'] + rice_wheat['wheat_allotment'])\n",
    "rice_wheat['perc_wheat'] = rice_wheat['wheat_allotment'] / (rice_wheat['rice_allotment'] + rice_wheat['wheat_allotment'])\n",
    "\n",
    "rice_wheat.head()"
   ]
  },
  {
   "cell_type": "markdown",
   "id": "b5da3921",
   "metadata": {},
   "source": [
    "Making total allotment and offtake from rice and wheat allotment-offtake state-year wise data"
   ]
  },
  {
   "cell_type": "code",
   "execution_count": 66,
   "id": "f82099bf",
   "metadata": {},
   "outputs": [
    {
     "data": {
      "text/html": [
       "<div>\n",
       "<style scoped>\n",
       "    .dataframe tbody tr th:only-of-type {\n",
       "        vertical-align: middle;\n",
       "    }\n",
       "\n",
       "    .dataframe tbody tr th {\n",
       "        vertical-align: top;\n",
       "    }\n",
       "\n",
       "    .dataframe thead th {\n",
       "        text-align: right;\n",
       "    }\n",
       "</style>\n",
       "<table border=\"1\" class=\"dataframe\">\n",
       "  <thead>\n",
       "    <tr style=\"text-align: right;\">\n",
       "      <th></th>\n",
       "      <th>State.UT</th>\n",
       "      <th>year</th>\n",
       "      <th>offtake</th>\n",
       "      <th>allotment</th>\n",
       "      <th>utilisation_ratio</th>\n",
       "    </tr>\n",
       "  </thead>\n",
       "  <tbody>\n",
       "    <tr>\n",
       "      <th>0</th>\n",
       "      <td>A&amp;N ISLANDS</td>\n",
       "      <td>2003</td>\n",
       "      <td>22.39</td>\n",
       "      <td>48.77</td>\n",
       "      <td>0.459094</td>\n",
       "    </tr>\n",
       "    <tr>\n",
       "      <th>1</th>\n",
       "      <td>ARUNACHAL</td>\n",
       "      <td>2003</td>\n",
       "      <td>104.96</td>\n",
       "      <td>145.33</td>\n",
       "      <td>0.722218</td>\n",
       "    </tr>\n",
       "    <tr>\n",
       "      <th>2</th>\n",
       "      <td>ASSAM</td>\n",
       "      <td>2003</td>\n",
       "      <td>1510.92</td>\n",
       "      <td>2042.99</td>\n",
       "      <td>0.739563</td>\n",
       "    </tr>\n",
       "    <tr>\n",
       "      <th>3</th>\n",
       "      <td>BIHAR</td>\n",
       "      <td>2003</td>\n",
       "      <td>1424.66</td>\n",
       "      <td>5699.26</td>\n",
       "      <td>0.249973</td>\n",
       "    </tr>\n",
       "    <tr>\n",
       "      <th>4</th>\n",
       "      <td>CHANDIGARH</td>\n",
       "      <td>2003</td>\n",
       "      <td>1.72</td>\n",
       "      <td>87.82</td>\n",
       "      <td>0.019586</td>\n",
       "    </tr>\n",
       "  </tbody>\n",
       "</table>\n",
       "</div>"
      ],
      "text/plain": [
       "      State.UT  year  offtake  allotment  utilisation_ratio\n",
       "0  A&N ISLANDS  2003    22.39      48.77           0.459094\n",
       "1    ARUNACHAL  2003   104.96     145.33           0.722218\n",
       "2        ASSAM  2003  1510.92    2042.99           0.739563\n",
       "3        BIHAR  2003  1424.66    5699.26           0.249973\n",
       "4   CHANDIGARH  2003     1.72      87.82           0.019586"
      ]
     },
     "execution_count": 66,
     "metadata": {},
     "output_type": "execute_result"
    }
   ],
   "source": [
    "all_off = pd.merge(rice, wheat, on=['State.UT', 'year'], how='inner')\n",
    "all_off['offtake'] = all_off[\"offtake_x\"] + all_off[\"offtake_y\"]\n",
    "all_off['allotment'] = all_off['allotment_x'] + all_off['allotment_y']\n",
    "all_off.drop(['offtake_x', 'offtake_y', 'allotment_x', 'allotment_y', 'zone_x', 'zone_y'], axis=1, inplace=True)\n",
    "all_off['utilisation_ratio'] = all_off['offtake'] / all_off['allotment']\n",
    "all_off = remove_outliers(all_off, ['offtake', 'allotment', 'utilisation_ratio'])\n",
    "all_off.head()"
   ]
  },
  {
   "cell_type": "code",
   "execution_count": 69,
   "id": "1cdbb623",
   "metadata": {},
   "outputs": [
    {
     "data": {
      "text/html": [
       "<div>\n",
       "<style scoped>\n",
       "    .dataframe tbody tr th:only-of-type {\n",
       "        vertical-align: middle;\n",
       "    }\n",
       "\n",
       "    .dataframe tbody tr th {\n",
       "        vertical-align: top;\n",
       "    }\n",
       "\n",
       "    .dataframe thead th {\n",
       "        text-align: right;\n",
       "    }\n",
       "</style>\n",
       "<table border=\"1\" class=\"dataframe\">\n",
       "  <thead>\n",
       "    <tr style=\"text-align: right;\">\n",
       "      <th></th>\n",
       "      <th>year</th>\n",
       "      <th>allotment</th>\n",
       "      <th>offtake</th>\n",
       "    </tr>\n",
       "  </thead>\n",
       "  <tbody>\n",
       "    <tr>\n",
       "      <th>0</th>\n",
       "      <td>2003</td>\n",
       "      <td>33339.66</td>\n",
       "      <td>17375.66</td>\n",
       "    </tr>\n",
       "    <tr>\n",
       "      <th>1</th>\n",
       "      <td>2004</td>\n",
       "      <td>34330.76</td>\n",
       "      <td>18574.06</td>\n",
       "    </tr>\n",
       "    <tr>\n",
       "      <th>2</th>\n",
       "      <td>2005</td>\n",
       "      <td>48210.39</td>\n",
       "      <td>25269.57</td>\n",
       "    </tr>\n",
       "    <tr>\n",
       "      <th>3</th>\n",
       "      <td>2006</td>\n",
       "      <td>48333.61</td>\n",
       "      <td>27877.11</td>\n",
       "    </tr>\n",
       "    <tr>\n",
       "      <th>4</th>\n",
       "      <td>2007</td>\n",
       "      <td>38947.82</td>\n",
       "      <td>33513.04</td>\n",
       "    </tr>\n",
       "  </tbody>\n",
       "</table>\n",
       "</div>"
      ],
      "text/plain": [
       "   year  allotment   offtake\n",
       "0  2003   33339.66  17375.66\n",
       "1  2004   34330.76  18574.06\n",
       "2  2005   48210.39  25269.57\n",
       "3  2006   48333.61  27877.11\n",
       "4  2007   38947.82  33513.04"
      ]
     },
     "execution_count": 69,
     "metadata": {},
     "output_type": "execute_result"
    }
   ],
   "source": [
    "year_total_ao = all_off.groupby('year').agg({'allotment':sum, 'offtake':sum}).reset_index()\n",
    "year_total_ao.head()\n",
    "\n",
    "state_total_ao = all_off.groupby('year').agg({'allotment':sum, 'offtake':sum}).reset_index()\n",
    "state_total_ao.head()"
   ]
  },
  {
   "cell_type": "code",
   "execution_count": 70,
   "id": "8cf9152c",
   "metadata": {},
   "outputs": [],
   "source": [
    "ur = pd.read_excel(\"Data/utilisation_ratio_state_wise_2010_2019.xlsx\")\n",
    "state_ao = pd.read_excel(\"Data/state_ao 2003-19.xlsx\")"
   ]
  },
  {
   "cell_type": "code",
   "execution_count": 92,
   "id": "3d549e04",
   "metadata": {},
   "outputs": [
    {
     "data": {
      "text/html": [
       "<div>\n",
       "<style scoped>\n",
       "    .dataframe tbody tr th:only-of-type {\n",
       "        vertical-align: middle;\n",
       "    }\n",
       "\n",
       "    .dataframe tbody tr th {\n",
       "        vertical-align: top;\n",
       "    }\n",
       "\n",
       "    .dataframe thead th {\n",
       "        text-align: right;\n",
       "    }\n",
       "</style>\n",
       "<table border=\"1\" class=\"dataframe\">\n",
       "  <thead>\n",
       "    <tr style=\"text-align: right;\">\n",
       "      <th></th>\n",
       "      <th>State.UT</th>\n",
       "      <th>year</th>\n",
       "      <th>ro_length</th>\n",
       "      <th>ro_log_length</th>\n",
       "    </tr>\n",
       "  </thead>\n",
       "  <tbody>\n",
       "    <tr>\n",
       "      <th>0</th>\n",
       "      <td>A&amp;N ISLANDS</td>\n",
       "      <td>2010</td>\n",
       "      <td>1302.0</td>\n",
       "      <td>7.172425</td>\n",
       "    </tr>\n",
       "    <tr>\n",
       "      <th>1</th>\n",
       "      <td>ANDHRA PR</td>\n",
       "      <td>2010</td>\n",
       "      <td>235678.0</td>\n",
       "      <td>12.370226</td>\n",
       "    </tr>\n",
       "    <tr>\n",
       "      <th>2</th>\n",
       "      <td>ARUNACHAL</td>\n",
       "      <td>2010</td>\n",
       "      <td>21122.0</td>\n",
       "      <td>9.958118</td>\n",
       "    </tr>\n",
       "    <tr>\n",
       "      <th>3</th>\n",
       "      <td>ASSAM</td>\n",
       "      <td>2010</td>\n",
       "      <td>239394.0</td>\n",
       "      <td>12.385870</td>\n",
       "    </tr>\n",
       "    <tr>\n",
       "      <th>4</th>\n",
       "      <td>BIHAR</td>\n",
       "      <td>2010</td>\n",
       "      <td>128034.0</td>\n",
       "      <td>11.760059</td>\n",
       "    </tr>\n",
       "  </tbody>\n",
       "</table>\n",
       "</div>"
      ],
      "text/plain": [
       "      State.UT  year  ro_length  ro_log_length\n",
       "0  A&N ISLANDS  2010     1302.0       7.172425\n",
       "1    ANDHRA PR  2010   235678.0      12.370226\n",
       "2    ARUNACHAL  2010    21122.0       9.958118\n",
       "3        ASSAM  2010   239394.0      12.385870\n",
       "4        BIHAR  2010   128034.0      11.760059"
      ]
     },
     "execution_count": 92,
     "metadata": {},
     "output_type": "execute_result"
    }
   ],
   "source": [
    "#Getting road length data\n",
    "road_l = pd.read_excel(\"Data/Road Length 2010-16.XLSX\")\n",
    "road_l = pd.melt(road_l, var_name='year', value_name='ro_length', id_vars='State.UT')\n",
    "road_l = road_l.dropna()\n",
    "road_l['year'] = road_l['year'].astype(int)\n",
    "road_l['ro_log_length'] = np.log1p(road_l['ro_length'])\n",
    "road_l = remove_outliers(road_l, [\"ro_length\", \"ro_log_length\"])\n",
    "road_l.head()\n",
    "\n",
    "#Getting state highway length\n",
    "sh_l = pd.read_excel(\"Data/SH Length 2011-16.xlsx\")\n",
    "sh_l = pd.melt(sh_l, var_name='year', value_name='sh_length', id_vars='State.UT')\n",
    "sh_l = sh_l.dropna()\n",
    "sh_l['sh_log_length'] = np.log1p(sh_l['sh_length'])\n",
    "sh_l['year'] = sh_l['year'].astype(float)\n",
    "sh_l = remove_outliers(sh_l, [\"sh_log_length\", \"sh_length\"])\n",
    "\n",
    "#Getting railway length data\n",
    "rw_l = pd.read_excel(\"Data/Railway Length 2011-17.xlsx\")\n",
    "rw_l = pd.melt(rw_l, var_name='year', value_name='rw_length', id_vars='State.UT')\n",
    "rw_l = rw_l.dropna()\n",
    "rw_l['rw_log_length'] = np.log1p(rw_l['rw_length'])\n",
    "rw_l['year'] = rw_l['year'].astype(float)\n",
    "rw_l = remove_outliers(rw_l, [\"rw_length\", \"rw_log_length\"])\n",
    "\n",
    "#Getting GSDP data\n",
    "gsdp = pd.read_excel(\"Data/GSDP Current Price 2011-20.xlsx\")\n",
    "gsdp = pd.melt(gsdp, var_name='year', value_name='gsdp', id_vars='State.UT')\n",
    "gsdp['year'] = gsdp['year'].apply(lambda x: int(x[0:4]))\n",
    "gsdp = gsdp.dropna()\n",
    "gsdp['log_gsdp'] = np.log1p(gsdp['gsdp'])\n",
    "gsdp.head()"
   ]
  },
  {
   "cell_type": "markdown",
   "id": "372df21c",
   "metadata": {},
   "source": [
    "DCP Data Prepearation"
   ]
  },
  {
   "cell_type": "code",
   "execution_count": 237,
   "id": "a435689d",
   "metadata": {},
   "outputs": [
    {
     "data": {
      "text/html": [
       "<div>\n",
       "<style scoped>\n",
       "    .dataframe tbody tr th:only-of-type {\n",
       "        vertical-align: middle;\n",
       "    }\n",
       "\n",
       "    .dataframe tbody tr th {\n",
       "        vertical-align: top;\n",
       "    }\n",
       "\n",
       "    .dataframe thead th {\n",
       "        text-align: right;\n",
       "    }\n",
       "</style>\n",
       "<table border=\"1\" class=\"dataframe\">\n",
       "  <thead>\n",
       "    <tr style=\"text-align: right;\">\n",
       "      <th></th>\n",
       "      <th>index</th>\n",
       "      <th>State.UT</th>\n",
       "      <th>year</th>\n",
       "      <th>offtake</th>\n",
       "      <th>allotment</th>\n",
       "      <th>zone</th>\n",
       "      <th>grain</th>\n",
       "      <th>dcp</th>\n",
       "    </tr>\n",
       "  </thead>\n",
       "  <tbody>\n",
       "    <tr>\n",
       "      <th>249</th>\n",
       "      <td>249</td>\n",
       "      <td>J &amp; K</td>\n",
       "      <td>2010</td>\n",
       "      <td>600.05</td>\n",
       "      <td>723.48</td>\n",
       "      <td>NORTH ZONE</td>\n",
       "      <td>rice</td>\n",
       "      <td>0</td>\n",
       "    </tr>\n",
       "    <tr>\n",
       "      <th>204</th>\n",
       "      <td>204</td>\n",
       "      <td>ASSAM</td>\n",
       "      <td>2009</td>\n",
       "      <td>1258.56</td>\n",
       "      <td>1449.19</td>\n",
       "      <td>N.E ZONE</td>\n",
       "      <td>rice</td>\n",
       "      <td>0</td>\n",
       "    </tr>\n",
       "    <tr>\n",
       "      <th>497</th>\n",
       "      <td>497</td>\n",
       "      <td>MADHYA PR</td>\n",
       "      <td>2017</td>\n",
       "      <td>957.38</td>\n",
       "      <td>1075.27</td>\n",
       "      <td>WEST ZONE</td>\n",
       "      <td>rice</td>\n",
       "      <td>1</td>\n",
       "    </tr>\n",
       "    <tr>\n",
       "      <th>1067</th>\n",
       "      <td>481</td>\n",
       "      <td>GOA</td>\n",
       "      <td>2017</td>\n",
       "      <td>12.39</td>\n",
       "      <td>13.17</td>\n",
       "      <td>WEST ZONE</td>\n",
       "      <td>white</td>\n",
       "      <td>0</td>\n",
       "    </tr>\n",
       "    <tr>\n",
       "      <th>368</th>\n",
       "      <td>368</td>\n",
       "      <td>UTTAR PR</td>\n",
       "      <td>2013</td>\n",
       "      <td>3044.05</td>\n",
       "      <td>3584.83</td>\n",
       "      <td>NORTH ZONE</td>\n",
       "      <td>rice</td>\n",
       "      <td>0</td>\n",
       "    </tr>\n",
       "  </tbody>\n",
       "</table>\n",
       "</div>"
      ],
      "text/plain": [
       "      index   State.UT  year  offtake  allotment        zone  grain  dcp\n",
       "249     249      J & K  2010   600.05     723.48  NORTH ZONE   rice    0\n",
       "204     204      ASSAM  2009  1258.56    1449.19    N.E ZONE   rice    0\n",
       "497     497  MADHYA PR  2017   957.38    1075.27   WEST ZONE   rice    1\n",
       "1067    481        GOA  2017    12.39      13.17   WEST ZONE  white    0\n",
       "368     368   UTTAR PR  2013  3044.05    3584.83  NORTH ZONE   rice    0"
      ]
     },
     "execution_count": 237,
     "metadata": {},
     "output_type": "execute_result"
    }
   ],
   "source": [
    "rice['grain'] = 'rice'\n",
    "wheat['grain'] = 'white'\n",
    "df_dcp = pd.concat([rice, wheat], axis=0).reset_index()\n",
    "rice.drop(['grain'], axis=1, inplace=True)\n",
    "wheat.drop(['grain'], axis=1, inplace=True)\n",
    "df_dcp['dcp'] = 0\n",
    "\n",
    "dcp_status = pd.read_excel(\"Data/DCP Status.xlsx\")\n",
    "dcp_status = dcp_status.dropna().reset_index(drop=True)\n",
    "\n",
    "#wef - with effect from\n",
    "indexes = []\n",
    "for idx, row in dcp_status.iterrows():\n",
    "    year = row['wef']\n",
    "    state = row['State.UT']\n",
    "    grain = row['grain']\n",
    "    idx = df_dcp[(df_dcp['year'] >= year) & (df_dcp['State.UT'] == state) & (df_dcp['grain'] == grain)].index\n",
    "    df_dcp['dcp'][idx] = 1    \n",
    "\n",
    "df_dcp.sample(5)\n",
    "\n",
    "df_dcp['utilisation_ratio'] = df_dcp['offtake'] / df_dcp['allotment']\n",
    "df_dcp.dropna(inplace=True)\n",
    "df_dcp = df_dcp[df_dcp['utilisation_ratio'] <= 1]\n",
    "df_dcp = remove_outliers(df_dcp, [\"utilisation_ratio\"])"
   ]
  },
  {
   "cell_type": "code",
   "execution_count": 239,
   "id": "0c9729cf",
   "metadata": {},
   "outputs": [],
   "source": [
    "pop = pd.read_excel(\"Data/projected_population_by_state_2012_2036.xlsx\")\n",
    "pop['log_pop'] = np.log1p(pop['Population'])\n",
    "\n",
    "bpl_perc2011 = pd.read_excel(\"Data/BPL data.xlsx\")\n",
    "bpl_perc2011.rename({\"2011-12 Perc of Persons\":\"percent\"}, axis=1, inplace=True)\n",
    "bpl_perc2011['year'] = 2011"
   ]
  },
  {
   "cell_type": "code",
   "execution_count": null,
   "id": "6af2c67a",
   "metadata": {},
   "outputs": [],
   "source": []
  },
  {
   "cell_type": "code",
   "execution_count": 244,
   "id": "b8697a5d",
   "metadata": {},
   "outputs": [],
   "source": [
    "total_all_pop = pd.merge(all_off, pop, on=['State.UT', 'year'], how='inner')"
   ]
  },
  {
   "cell_type": "code",
   "execution_count": 249,
   "id": "e3f0222c",
   "metadata": {},
   "outputs": [
    {
     "data": {
      "text/html": [
       "<div>\n",
       "<style scoped>\n",
       "    .dataframe tbody tr th:only-of-type {\n",
       "        vertical-align: middle;\n",
       "    }\n",
       "\n",
       "    .dataframe tbody tr th {\n",
       "        vertical-align: top;\n",
       "    }\n",
       "\n",
       "    .dataframe thead th {\n",
       "        text-align: right;\n",
       "    }\n",
       "</style>\n",
       "<table border=\"1\" class=\"dataframe\">\n",
       "  <thead>\n",
       "    <tr style=\"text-align: right;\">\n",
       "      <th></th>\n",
       "      <th>State.UT</th>\n",
       "      <th>year</th>\n",
       "      <th>offtake</th>\n",
       "      <th>allotment</th>\n",
       "      <th>utilisation_ratio</th>\n",
       "      <th>Population</th>\n",
       "      <th>log_pop</th>\n",
       "    </tr>\n",
       "  </thead>\n",
       "  <tbody>\n",
       "    <tr>\n",
       "      <th>0</th>\n",
       "      <td>A&amp;N ISLANDS</td>\n",
       "      <td>2011</td>\n",
       "      <td>20.41</td>\n",
       "      <td>40.60</td>\n",
       "      <td>0.502709</td>\n",
       "      <td>381000</td>\n",
       "      <td>12.850557</td>\n",
       "    </tr>\n",
       "    <tr>\n",
       "      <th>1</th>\n",
       "      <td>ARUNACHAL</td>\n",
       "      <td>2011</td>\n",
       "      <td>102.69</td>\n",
       "      <td>134.52</td>\n",
       "      <td>0.763381</td>\n",
       "      <td>1384000</td>\n",
       "      <td>14.140489</td>\n",
       "    </tr>\n",
       "    <tr>\n",
       "      <th>2</th>\n",
       "      <td>ASSAM</td>\n",
       "      <td>2011</td>\n",
       "      <td>2211.13</td>\n",
       "      <td>2914.49</td>\n",
       "      <td>0.758668</td>\n",
       "      <td>31206000</td>\n",
       "      <td>17.256121</td>\n",
       "    </tr>\n",
       "    <tr>\n",
       "      <th>3</th>\n",
       "      <td>BIHAR</td>\n",
       "      <td>2011</td>\n",
       "      <td>3802.68</td>\n",
       "      <td>5410.26</td>\n",
       "      <td>0.702865</td>\n",
       "      <td>104099000</td>\n",
       "      <td>18.460853</td>\n",
       "    </tr>\n",
       "    <tr>\n",
       "      <th>4</th>\n",
       "      <td>CHANDIGARH</td>\n",
       "      <td>2011</td>\n",
       "      <td>54.84</td>\n",
       "      <td>76.20</td>\n",
       "      <td>0.719685</td>\n",
       "      <td>1055000</td>\n",
       "      <td>13.869052</td>\n",
       "    </tr>\n",
       "  </tbody>\n",
       "</table>\n",
       "</div>"
      ],
      "text/plain": [
       "      State.UT  year  offtake  allotment  utilisation_ratio  Population  \\\n",
       "0  A&N ISLANDS  2011    20.41      40.60           0.502709      381000   \n",
       "1    ARUNACHAL  2011   102.69     134.52           0.763381     1384000   \n",
       "2        ASSAM  2011  2211.13    2914.49           0.758668    31206000   \n",
       "3        BIHAR  2011  3802.68    5410.26           0.702865   104099000   \n",
       "4   CHANDIGARH  2011    54.84      76.20           0.719685     1055000   \n",
       "\n",
       "     log_pop  \n",
       "0  12.850557  \n",
       "1  14.140489  \n",
       "2  17.256121  \n",
       "3  18.460853  \n",
       "4  13.869052  "
      ]
     },
     "execution_count": 249,
     "metadata": {},
     "output_type": "execute_result"
    }
   ],
   "source": [
    "total_all_pop.head()"
   ]
  },
  {
   "cell_type": "code",
   "execution_count": 317,
   "id": "f14ccc82",
   "metadata": {},
   "outputs": [],
   "source": [
    "from sklearn import linear_model\n",
    "from sklearn.metrics import mean_squared_error, r2_score"
   ]
  },
  {
   "cell_type": "markdown",
   "id": "1e31ae50",
   "metadata": {},
   "source": [
    "### Equation A"
   ]
  },
  {
   "cell_type": "code",
   "execution_count": 264,
   "id": "93869dcb",
   "metadata": {},
   "outputs": [
    {
     "name": "stdout",
     "output_type": "stream",
     "text": [
      "[4.82335241e-05] 88.87382471679825\n"
     ]
    }
   ],
   "source": [
    "pop_alt_model = linear_model.LinearRegression().fit(total_all_pop[['Population']], total_all_pop['allotment'])\n",
    "\n",
    "print (pop_alt_model.coef_, pop_alt_model.intercept_)"
   ]
  },
  {
   "cell_type": "markdown",
   "id": "c55ed858",
   "metadata": {},
   "source": [
    "### Equation B"
   ]
  },
  {
   "cell_type": "code",
   "execution_count": 336,
   "id": "30f1af59",
   "metadata": {},
   "outputs": [
    {
     "name": "stdout",
     "output_type": "stream",
     "text": [
      "Leasr BPL Change Rate  0.81\n"
     ]
    },
    {
     "data": {
      "text/plain": [
       "[<matplotlib.lines.Line2D at 0x7f98699cd850>]"
      ]
     },
     "execution_count": 336,
     "metadata": {},
     "output_type": "execute_result"
    },
    {
     "data": {
      "image/png": "[encoded data removed]",
      "text/plain": [
       "<Figure size 432x288 with 1 Axes>"
      ]
     },
     "metadata": {
      "needs_background": "light"
     },
     "output_type": "display_data"
    }
   ],
   "source": [
    "bpl_change_rate = []\n",
    "ssr = []\n",
    "for bpl_cr in np.arange(-1, 3.01, 0.01):\n",
    "    bpl_cr = round(bpl_cr, 2)\n",
    "    bpl = generate_bpl_data(pop, bpl_perc2011, bpl_cr)\n",
    "    tbp = pd.merge(all_off, bpl, on=['State.UT', 'year'], how='inner')\n",
    "    model = linear_model.LinearRegression().fit(tbp[['bpl_pop']], tbp['allotment'])\n",
    "    pred = model.predict(tbp[['bpl_pop']])\n",
    "    ssr.append(mean_squared_error(pred, tbp['allotment']))\n",
    "    bpl_change_rate.append(bpl_cr)\n",
    "\n",
    "bpl_cr = bpl_change_rate[ssr.index(min(ssr))]\n",
    "print (\"Leasr BPL Change Rate \", bpl_cr)\n",
    "\n",
    "plt.plot(bpl_change_rate, ssr)"
   ]
  },
  {
   "cell_type": "code",
   "execution_count": 337,
   "id": "87dd98fc",
   "metadata": {},
   "outputs": [],
   "source": [
    "bpl = generate_bpl_data(pop, bpl_perc2011, bpl_cr)\n",
    "tbp = pd.merge(all_off, bpl, on=['State.UT', 'year'], how='inner')"
   ]
  },
  {
   "cell_type": "code",
   "execution_count": 338,
   "id": "433dd878",
   "metadata": {},
   "outputs": [],
   "source": [
    "bpl_alt_fit = linear_model.LinearRegression().fit(tbp[['bpl_pop']], tbp['allotment'])"
   ]
  },
  {
   "cell_type": "markdown",
   "id": "d40efb35",
   "metadata": {},
   "source": [
    "## Forecasts for futures"
   ]
  },
  {
   "cell_type": "code",
   "execution_count": 348,
   "id": "5e4f4c5d",
   "metadata": {},
   "outputs": [],
   "source": [
    "r = rice.copy()\n",
    "w = wheat.copy()\n",
    "r.rename({\"allotment\":\"rice_allotment\"}, axis=1, inplace=True)\n",
    "w.rename({\"allotment\":\"wheat_allotment\"}, axis=1, inplace=True)\n",
    "r.drop([\"zone\", \"offtake\"], axis=1, inplace=True)\n",
    "w.drop([\"zone\", \"offtake\"], axis=1, inplace=True)\n",
    "rw = pd.merge(r, w, on=['State.UT', 'year'], how='inner')\n",
    "\n",
    "rw['rice_perc'] = rw['rice_allotment'] / (rw['rice_allotment'] + rw['wheat_allotment'])\n",
    "rw['wheat_perc'] = rw['wheat_allotment'] / (rw['rice_allotment'] + rw['wheat_allotment'])"
   ]
  },
  {
   "cell_type": "code",
   "execution_count": 366,
   "id": "2b6f47fe",
   "metadata": {},
   "outputs": [],
   "source": [
    "rw['rice_moving_perc'] = 0\n",
    "rw['wheat_moving_perc'] = 0"
   ]
  },
  {
   "cell_type": "markdown",
   "id": "49a8822b",
   "metadata": {},
   "source": [
    "Calculat moving percentage"
   ]
  },
  {
   "cell_type": "code",
   "execution_count": 367,
   "id": "3ce07a69",
   "metadata": {},
   "outputs": [],
   "source": [
    "for year in range(2006, 2020):\n",
    "    for state in list(rw['State.UT'].unique()):\n",
    "        df2 = rw[((rw['State.UT'] == state) & ((rw['year'] < year) & (rw['year'] >= year-3)))]\n",
    "        r_m_p, w_m_p = df2['rice_perc'].mean(), df2['wheat_perc'].mean()\n",
    "        idx = rw[((rw['State.UT'] == state) & (rw['year'] == year))].index\n",
    "        if len(idx) > 0:\n",
    "            rw['rice_moving_perc'][idx] = r_m_p\n",
    "            rw['wheat_moving_perc'][idx] = w_m_p"
   ]
  },
  {
   "cell_type": "code",
   "execution_count": 369,
   "id": "f1c41421",
   "metadata": {},
   "outputs": [
    {
     "data": {
      "text/plain": [
       "(561, 9)"
      ]
     },
     "execution_count": 369,
     "metadata": {},
     "output_type": "execute_result"
    }
   ],
   "source": [
    "rw.shape"
   ]
  },
  {
   "cell_type": "code",
   "execution_count": 370,
   "id": "a9482a1b",
   "metadata": {},
   "outputs": [
    {
     "data": {
      "text/plain": [
       "(465, 9)"
      ]
     },
     "execution_count": 370,
     "metadata": {},
     "output_type": "execute_result"
    }
   ],
   "source": [
    "rw = rw[(rw['rice_moving_perc'] > 0) & (rw['wheat_moving_perc'] > 0)]\n",
    "rw.shape"
   ]
  },
  {
   "cell_type": "code",
   "execution_count": 371,
   "id": "8f19f24d",
   "metadata": {},
   "outputs": [],
   "source": [
    "rp = pd.merge(rw, pop, on=['State.UT', 'year'], how='inner')\n",
    "rp = remove_outliers(rp, [\"Population\", \"rice_allotment\", \"rice_moving_perc\", \"wheat_moving_perc\"])\n",
    "\n",
    "rice_pop_fit = linear_model.LinearRegression().fit(rp[['Population', 'rice_moving_perc']], rp['rice_allotment'])"
   ]
  },
  {
   "cell_type": "code",
   "execution_count": 374,
   "id": "fb72a4cb",
   "metadata": {},
   "outputs": [],
   "source": [
    "wp = pd.merge(rw, pop, on=['State.UT', 'year'], how='inner')\n",
    "wp = remove_outliers(wp, [\"Population\", \"rice_allotment\", \"rice_moving_perc\", \"wheat_moving_perc\"])\n",
    "wheat_pop_fit = linear_model.LinearRegression().fit(wp[['Population', 'wheat_moving_perc']], wp['rice_allotment'])"
   ]
  },
  {
   "cell_type": "code",
   "execution_count": null,
   "id": "ad26801f",
   "metadata": {},
   "outputs": [],
   "source": []
  }
 ],
 "metadata": {
  "kernelspec": {
   "display_name": "Python 3 (ipykernel)",
   "language": "python",
   "name": "python3"
  },
  "language_info": {
   "codemirror_mode": {
    "name": "ipython",
    "version": 3
   },
   "file_extension": ".py",
   "mimetype": "text/x-python",
   "name": "python",
   "nbconvert_exporter": "python",
   "pygments_lexer": "ipython3",
   "version": "3.8.5"
  }
 },
 "nbformat": 4,
 "nbformat_minor": 5
}
